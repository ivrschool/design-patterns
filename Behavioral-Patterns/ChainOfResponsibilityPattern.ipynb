{
 "cells": [
  {
   "cell_type": "code",
   "execution_count": 1,
   "metadata": {},
   "outputs": [],
   "source": [
    "# Step 1: Define the Handler Interface\n",
    "\n",
    "from abc import ABC, abstractmethod\n",
    "\n",
    "class Handler(ABC):\n",
    "    @abstractmethod\n",
    "    def set_next(self, handler: 'Handler') -> 'Handler':\n",
    "        pass\n",
    "    @abstractmethod\n",
    "    def handle(self, request: str) -> str:\n",
    "        pass"
   ]
  },
  {
   "cell_type": "code",
   "execution_count": 6,
   "metadata": {},
   "outputs": [],
   "source": [
    "#Step 2: Create the Base Handler Class\n",
    "class AbstractHandler(Handler):\n",
    "    def __init__(self):\n",
    "        self._next_handler = None\n",
    "\n",
    "    def set_next(self, handler: Handler) -> Handler:\n",
    "        self._next_handler = handler\n",
    "        return handler\n",
    "\n",
    "    def handle(self, request: str) -> str:\n",
    "        if self._next_handler:\n",
    "            return self._next_handler.handle(request)\n",
    "        return f\"[Support] No one could handle your request: '{request}'.\""
   ]
  },
  {
   "cell_type": "code",
   "execution_count": 5,
   "metadata": {},
   "outputs": [],
   "source": [
    "#Step 3: Concrete Handlers\n",
    "class LoginSupportHandler(AbstractHandler):\n",
    "    def handle(self, request: str) -> str:\n",
    "        if \"password\" in request.lower():\n",
    "            return \"[Login Support] We'll help you reset your password.\"\n",
    "        return super().handle(request)\n",
    "\n",
    "class CrashSupportHandler(AbstractHandler):\n",
    "    def handle(self, request: str) -> str:\n",
    "        if \"crash\" in request.lower():\n",
    "            return \"[Crash Support] We're investigating the crash report.\"\n",
    "        return super().handle(request)\n",
    "\n",
    "class BillingSupportHandler(AbstractHandler):\n",
    "    def handle(self, request: str) -> str:\n",
    "        if \"billing\" in request.lower():\n",
    "            return \"[Billing Support] Let's review your billing history.\"\n",
    "        return super().handle(request)"
   ]
  },
  {
   "cell_type": "code",
   "execution_count": 4,
   "metadata": {},
   "outputs": [
    {
     "name": "stdout",
     "output_type": "stream",
     "text": [
      "[Login Support] We'll help you reset your password.\n",
      "[Crash Support] We're investigating the crash report.\n",
      "[Billing Support] Let's review your billing history.\n",
      "[Support] No one could handle your request: 'I want to delete my account'.\n"
     ]
    }
   ],
   "source": [
    "# Step 4: Client Code\n",
    "if __name__ == \"__main__\":\n",
    "    # Create handlers\n",
    "    login = LoginSupportHandler()\n",
    "    crash = CrashSupportHandler()\n",
    "    billing = BillingSupportHandler()\n",
    "    \n",
    "\n",
    "    # Setup the chain\n",
    "    login.set_next(crash).set_next(billing)\n",
    "\n",
    "    # Simulate requests\n",
    "    issues = [\n",
    "        \"I forgot my password\",\n",
    "        \"My app crashes when I open it\",\n",
    "        \"Billing issue on last invoice\",\n",
    "        \"I want to delete my account\"\n",
    "    ]\n",
    "    for issue in issues:\n",
    "        print(login.handle(issue))"
   ]
  },
  {
   "cell_type": "markdown",
   "metadata": {},
   "source": [
    "### Add a new handler"
   ]
  },
  {
   "cell_type": "code",
   "execution_count": 7,
   "metadata": {},
   "outputs": [],
   "source": [
    "class AccountSupportHandler(AbstractHandler):\n",
    "    def handle(self, request: str) -> str:\n",
    "        if \"delete\" in request.lower():\n",
    "            return \"[Account Support] We'll guide you through account deletion.\"\n",
    "        return super().handle(request)"
   ]
  },
  {
   "cell_type": "code",
   "execution_count": 9,
   "metadata": {},
   "outputs": [
    {
     "name": "stdout",
     "output_type": "stream",
     "text": [
      "[Login Support] We'll help you reset your password.\n",
      "[Crash Support] We're investigating the crash report.\n",
      "[Billing Support] Let's review your billing history.\n",
      "[Account Support] We'll guide you through account deletion.\n"
     ]
    }
   ],
   "source": [
    "# Client code\n",
    "if __name__ == \"__main__\":\n",
    "    \n",
    "    billing.set_next(AccountSupportHandler())\n",
    "\n",
    "    # Simulate requests\n",
    "    issues = [\n",
    "        \"I forgot my password\",\n",
    "        \"My app crashes when I open it\",\n",
    "        \"Billing issue on last invoice\",\n",
    "        \"I want to delete my account\",\n",
    "    ]\n",
    "    for issue in issues:\n",
    "        print(login.handle(issue))"
   ]
  },
  {
   "cell_type": "markdown",
   "metadata": {},
   "source": [
    "### Example of creating two new handlers"
   ]
  },
  {
   "cell_type": "code",
   "execution_count": 11,
   "metadata": {},
   "outputs": [],
   "source": [
    "class AccountSupportHandler(AbstractHandler):\n",
    "    def handle(self, request: str) -> str:\n",
    "        if \"delete\" in request.lower():\n",
    "            return \"[Account Support] We'll guide you through account deletion.\"\n",
    "        return super().handle(request)"
   ]
  },
  {
   "cell_type": "code",
   "execution_count": 13,
   "metadata": {},
   "outputs": [],
   "source": [
    "class EsclateSupportHandler(AbstractHandler):\n",
    "    def handle(self, request: str) -> str:\n",
    "        if \"esclate\" in request.lower():\n",
    "            return \"[Esclate Support] We'll guide you to how to esclate your issue.\"\n",
    "        return super().handle(request)"
   ]
  },
  {
   "cell_type": "code",
   "execution_count": 15,
   "metadata": {},
   "outputs": [
    {
     "name": "stdout",
     "output_type": "stream",
     "text": [
      "[Login Support] We'll help you reset your password.\n",
      "[Crash Support] We're investigating the crash report.\n",
      "[Billing Support] Let's review your billing history.\n",
      "[Account Support] We'll guide you through account deletion.\n",
      "[Esclate Support] We'll guide you to how to esclate your issue.\n"
     ]
    }
   ],
   "source": [
    "# Step 4: Client Code\n",
    "if __name__ == \"__main__\":\n",
    "    # Create handlers\n",
    "    login = LoginSupportHandler()\n",
    "    crash = CrashSupportHandler()\n",
    "    billing = BillingSupportHandler()\n",
    "    account = AccountSupportHandler()\n",
    "    esclate = EsclateSupportHandler()\n",
    "\n",
    "\n",
    "    # Setup the chain\n",
    "    login.set_next(crash).set_next(billing).set_next(account).set_next(esclate)\n",
    "\n",
    "    # Simulate requests\n",
    "    issues = [\n",
    "        \"I forgot my password\",\n",
    "        \"My app crashes when I open it\",\n",
    "        \"Billing issue on last invoice\",\n",
    "        \"I want to delete my account\",\n",
    "        \"I want to esclate my issue.\"\n",
    "    ]\n",
    "    for issue in issues:\n",
    "        print(login.handle(issue))"
   ]
  },
  {
   "cell_type": "code",
   "execution_count": null,
   "metadata": {},
   "outputs": [],
   "source": []
  }
 ],
 "metadata": {
  "kernelspec": {
   "display_name": "advertisex_pj",
   "language": "python",
   "name": "python3"
  },
  "language_info": {
   "codemirror_mode": {
    "name": "ipython",
    "version": 3
   },
   "file_extension": ".py",
   "mimetype": "text/x-python",
   "name": "python",
   "nbconvert_exporter": "python",
   "pygments_lexer": "ipython3",
   "version": "3.9.6"
  }
 },
 "nbformat": 4,
 "nbformat_minor": 2
}
