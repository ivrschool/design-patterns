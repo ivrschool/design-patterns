{
 "cells": [
  {
   "cell_type": "code",
   "execution_count": null,
   "metadata": {},
   "outputs": [],
   "source": []
  },
  {
   "cell_type": "markdown",
   "metadata": {},
   "source": [
    "# Document Processing Tool"
   ]
  },
  {
   "cell_type": "markdown",
   "metadata": {},
   "source": [
    "## Naive Approach"
   ]
  },
  {
   "cell_type": "code",
   "execution_count": 1,
   "metadata": {},
   "outputs": [
    {
     "name": "stdout",
     "output_type": "stream",
     "text": [
      "<p>This is a paragraph.</p>\n",
      "Applying 'Dark' theme to paragraph.\n",
      "Word count: 4\n",
      "Valid? True\n",
      "----------------------------------------\n",
      "<img src='photo.jpg' />\n",
      "Applying 'Dark' theme to image.\n",
      "Word count: 0\n",
      "Valid? True\n",
      "----------------------------------------\n",
      "<table><tr><td>Name</td><td>Age</td></tr><tr><td>Alice</td><td>30</td></tr></table>\n",
      "Applying 'Dark' theme to table.\n",
      "Word count: 4\n",
      "Valid? True\n",
      "----------------------------------------\n"
     ]
    }
   ],
   "source": [
    "class Paragraph:\n",
    "    def __init__(self, text):\n",
    "        self.text = text\n",
    "\n",
    "    def render_html(self):\n",
    "        return f\"<p>{self.text}</p>\"\n",
    "\n",
    "    def count_words(self):\n",
    "        return len(self.text.split())\n",
    "\n",
    "    def validate(self):\n",
    "        return len(self.text.strip()) > 0\n",
    "\n",
    "    def apply_theme(self, theme):\n",
    "        print(f\"Applying '{theme}' theme to paragraph.\")\n",
    "\n",
    "class Image:\n",
    "    def __init__(self, filename):\n",
    "        self.filename = filename\n",
    "\n",
    "    def render_html(self):\n",
    "        return f\"<img src='{self.filename}' />\"\n",
    "\n",
    "    def count_words(self):\n",
    "        return 0  # Images don't have words\n",
    "\n",
    "    def validate(self):\n",
    "        return self.filename.endswith(('.png', '.jpg'))\n",
    "\n",
    "    def apply_theme(self, theme):\n",
    "        print(f\"Applying '{theme}' theme to image.\")\n",
    "\n",
    "class Table:\n",
    "    def __init__(self, rows):\n",
    "        self.rows = rows\n",
    "\n",
    "    def render_html(self):\n",
    "        html = \"<table>\"\n",
    "        for row in self.rows:\n",
    "            html += \"<tr>\" + \"\".join(f\"<td>{cell}</td>\" for cell in row) + \"</tr>\"\n",
    "        html += \"</table>\"\n",
    "        return html\n",
    "\n",
    "    def count_words(self):\n",
    "        return sum(len(cell.split()) for row in self.rows for cell in row)\n",
    "\n",
    "    def validate(self):\n",
    "        return all(isinstance(row, list) for row in self.rows)\n",
    "\n",
    "    def apply_theme(self, theme):\n",
    "        print(f\"Applying '{theme}' theme to table.\")\n",
    "\n",
    "if __name__ == \"__main__\":\n",
    "    doc = [\n",
    "        Paragraph(\"This is a paragraph.\"),\n",
    "        Image(\"photo.jpg\"),\n",
    "        Table([[\"Name\", \"Age\"], [\"Alice\", \"30\"]])\n",
    "    ]\n",
    "\n",
    "    for element in doc:\n",
    "        print(element.render_html())\n",
    "        element.apply_theme(\"Dark\")\n",
    "        print(\"Word count:\", element.count_words())\n",
    "        print(\"Valid?\", element.validate())\n",
    "        print(\"-\" * 40)"
   ]
  },
  {
   "cell_type": "markdown",
   "metadata": {},
   "source": [
    "## Visitor Pattern"
   ]
  },
  {
   "cell_type": "code",
   "execution_count": 2,
   "metadata": {},
   "outputs": [],
   "source": [
    "# Define Visitor Interface\n",
    "\n",
    "from abc import ABC, abstractmethod\n",
    "\n",
    "class Visitor(ABC):\n",
    "\n",
    "    @abstractmethod\n",
    "    def visit_paragraph(self, element):\n",
    "        pass\n",
    "\n",
    "    @abstractmethod\n",
    "    def visit_image(self, element):\n",
    "        pass\n",
    "\n",
    "    @abstractmethod\n",
    "    def visit_table(self, element):\n",
    "        pass"
   ]
  },
  {
   "cell_type": "code",
   "execution_count": 3,
   "metadata": {},
   "outputs": [],
   "source": [
    "#Define the Element Interface\n",
    "\n",
    "class DocumentElement(ABC):\n",
    "    @abstractmethod\n",
    "    def accept(self, visitor: Visitor):\n",
    "        pass"
   ]
  },
  {
   "cell_type": "code",
   "execution_count": 4,
   "metadata": {},
   "outputs": [],
   "source": [
    "#Implement Concrete Elements\n",
    "\n",
    "class Paragraph(DocumentElement):\n",
    "    def __init__(self, text):\n",
    "        self.text = text\n",
    "\n",
    "    def accept(self, visitor: Visitor):\n",
    "        visitor.visit_paragraph(self)\n",
    "\n",
    "class Image(DocumentElement):\n",
    "\n",
    "    def __init__(self, filename):\n",
    "        self.filename = filename\n",
    "\n",
    "    def accept(self, visitor: Visitor):\n",
    "        visitor.visit_image(self)\n",
    "\n",
    "class Table(DocumentElement):\n",
    "\n",
    "    def __init__(self, rows):\n",
    "        self.rows = rows\n",
    "\n",
    "    def accept(self, visitor: Visitor):\n",
    "        visitor.visit_table(self)"
   ]
  },
  {
   "cell_type": "code",
   "execution_count": 5,
   "metadata": {},
   "outputs": [],
   "source": [
    "# Implement Comcrete Visitors\n",
    "\n",
    "class HTMLRenderer(Visitor):\n",
    "    def visit_paragraph(self, element):\n",
    "        print(f\"<p>{element.text}</p>\")\n",
    "\n",
    "    def visit_image(self, element):\n",
    "        print(f\"<img src='{element.filename}' />\")\n",
    "\n",
    "    def visit_table(self, element):\n",
    "        print(\"<table>\")\n",
    "        for row in element.rows:\n",
    "            print(\"  <tr>\" + \"\".join(f\"<td>{cell}</td>\" for cell in row) + \"</tr>\")\n",
    "        print(\"</table>\")"
   ]
  },
  {
   "cell_type": "code",
   "execution_count": 6,
   "metadata": {},
   "outputs": [
    {
     "name": "stdout",
     "output_type": "stream",
     "text": [
      "<p>Hello world.</p>\n",
      "<img src='banner.png' />\n",
      "<table>\n",
      "  <tr><td>Name</td><td>Age</td></tr>\n",
      "  <tr><td>Alice</td><td>30</td></tr>\n",
      "  <tr><td>Bob</td><td>25</td></tr>\n",
      "</table>\n"
     ]
    }
   ],
   "source": [
    "# Client Code\n",
    "\n",
    "if __name__ == \"__main__\":\n",
    "    doc = [\n",
    "        Paragraph(\"Hello world.\"),\n",
    "        Image(\"banner.png\"),\n",
    "        Table([[\"Name\", \"Age\"], [\"Alice\", \"30\"], [\"Bob\", \"25\"]])\n",
    "    ]\n",
    "\n",
    "    renderer = HTMLRenderer()\n",
    "\n",
    "    for element in doc:\n",
    "        element.accept(renderer)"
   ]
  },
  {
   "cell_type": "markdown",
   "metadata": {},
   "source": [
    "### Scaling up: Add a word counter visitor"
   ]
  },
  {
   "cell_type": "code",
   "execution_count": 10,
   "metadata": {},
   "outputs": [
    {
     "name": "stdout",
     "output_type": "stream",
     "text": [
      "Total word count: 13\n"
     ]
    }
   ],
   "source": [
    "class WordCounter(Visitor):\n",
    "\n",
    "    def __init__(self):\n",
    "        self.word_count = 0\n",
    "\n",
    "    def visit_paragraph(self, element):\n",
    "        self.word_count += len(element.text.split())\n",
    "\n",
    "    def visit_image(self, element):\n",
    "        pass  # Images don't have words\n",
    "\n",
    "    def visit_table(self, element):\n",
    "        for row in element.rows:\n",
    "            self.word_count += len(row)\n",
    "\n",
    "if __name__ == \"__main__\":\n",
    "    # Define document elements\n",
    "    doc = [\n",
    "        Paragraph(\"This is a paragraph with some words.\"),\n",
    "        Image(\"cover.jpg\"),\n",
    "        Table([[\"Name\", \"Age\"], [\"Alice\", \"30\"], [\"Bob\", \"25\"]])\n",
    "    ]\n",
    "\n",
    "    # Apply WordCounter visitor\n",
    "    counter = WordCounter()\n",
    "\n",
    "    for element in doc:\n",
    "        element.accept(counter)\n",
    "\n",
    "    print(f\"Total word count: {counter.word_count}\")"
   ]
  },
  {
   "cell_type": "code",
   "execution_count": null,
   "metadata": {},
   "outputs": [],
   "source": []
  }
 ],
 "metadata": {
  "kernelspec": {
   "display_name": "advertisex_pj",
   "language": "python",
   "name": "python3"
  },
  "language_info": {
   "codemirror_mode": {
    "name": "ipython",
    "version": 3
   },
   "file_extension": ".py",
   "mimetype": "text/x-python",
   "name": "python",
   "nbconvert_exporter": "python",
   "pygments_lexer": "ipython3",
   "version": "3.9.6"
  }
 },
 "nbformat": 4,
 "nbformat_minor": 2
}
