{
 "cells": [
  {
   "cell_type": "markdown",
   "metadata": {},
   "source": [
    "### naive approach:"
   ]
  },
  {
   "cell_type": "code",
   "execution_count": 1,
   "metadata": {},
   "outputs": [
    {
     "name": "stdout",
     "output_type": "stream",
     "text": [
      "CSV Import:\n",
      "[CSV] Loading data from CSV file.\n",
      "[Validate] Basic format check passed.\n",
      "[CSV] Trimming whitespace and parsing dates.\n",
      "[Save] Data saved to database.\n",
      "\n",
      "JSON Import:\n",
      "[JSON] Loading data from JSON file.\n",
      "[JSON] Checking JSON schema validation.\n",
      "[JSON] Flattening nested structures.\n",
      "[Save] Data saved to database.\n",
      "\n",
      "API Import:\n",
      "[API] Fetching data from remote API...\n",
      "[API] Verifying API response format.\n",
      "[API] Mapping response to internal model.\n",
      "[Save] Data saved to database.\n"
     ]
    }
   ],
   "source": [
    "#CSV Importer (No Template)\n",
    "class CSVImporter:\n",
    "    def run(self):\n",
    "        print(\"[CSV] Loading data from CSV file.\")\n",
    "        print(\"[Validate] Basic format check passed.\")\n",
    "        print(\"[CSV] Trimming whitespace and parsing dates.\")\n",
    "        print(\"[Save] Data saved to database.\")\n",
    "\n",
    "#JSON Importer (No Template)\n",
    "class JSONImporter:\n",
    "    def run(self):\n",
    "        print(\"[JSON] Loading data from JSON file.\")\n",
    "        print(\"[JSON] Checking JSON schema validation.\")\n",
    "        print(\"[JSON] Flattening nested structures.\")\n",
    "        print(\"[Save] Data saved to database.\")\n",
    "\n",
    "#API Importer (No Template)\n",
    "class APIImporter:\n",
    "    def run(self):\n",
    "        print(\"[API] Fetching data from remote API...\")\n",
    "        print(\"[API] Verifying API response format.\")\n",
    "        print(\"[API] Mapping response to internal model.\")\n",
    "        print(\"[Save] Data saved to database.\")\n",
    "\n",
    "if __name__ == \"__main__\":\n",
    "    print(\"CSV Import:\")\n",
    "    csv = CSVImporter()\n",
    "    csv.run()\n",
    "\n",
    "    print(\"\\nJSON Import:\")\n",
    "    json = JSONImporter()\n",
    "    json.run()\n",
    "\n",
    "    print(\"\\nAPI Import:\")\n",
    "    api = APIImporter()\n",
    "    api.run()"
   ]
  },
  {
   "cell_type": "markdown",
   "metadata": {},
   "source": [
    "### Use Template Method"
   ]
  },
  {
   "cell_type": "code",
   "execution_count": 2,
   "metadata": {},
   "outputs": [],
   "source": [
    "# define Tempalce Class\n",
    "\n",
    "from abc import ABC, abstractmethod\n",
    "\n",
    "class DataImporter(ABC):\n",
    "    def run(self):\n",
    "        self.load()\n",
    "        self.validate()\n",
    "        self.transform()\n",
    "        self.save()\n",
    "\n",
    "    @abstractmethod\n",
    "    def load(self):\n",
    "        pass\n",
    "\n",
    "    def validate(self):\n",
    "        print(\"[Validate] Basic format check passed.\")\n",
    "\n",
    "    def transform(self):\n",
    "        print(\"[Transform] No transformation applied.\")\n",
    "\n",
    "    def save(self):\n",
    "        print(\"[Save] Data saved to database.\")"
   ]
  },
  {
   "cell_type": "code",
   "execution_count": 3,
   "metadata": {},
   "outputs": [],
   "source": [
    "# Create CSV Importer\n",
    "\n",
    "class CSVImporter(DataImporter):\n",
    "    def load(self):\n",
    "        print(\"[CSV] Loading data from CSV file.\")\n",
    "\n",
    "    def transform(self):\n",
    "        print(\"[CSV] Trimming whitespace and parsing dates.\")"
   ]
  },
  {
   "cell_type": "code",
   "execution_count": 4,
   "metadata": {},
   "outputs": [],
   "source": [
    "# Create JSON Importer\n",
    "\n",
    "class JSONImporter(DataImporter):\n",
    "    def load(self):\n",
    "        print(\"[JSON] Loading data from JSON file.\")\n",
    "\n",
    "    def validate(self):\n",
    "        print(\"[JSON] Checking JSON schema validation.\")\n",
    "\n",
    "    def transform(self):\n",
    "        print(\"[JSON] Flattening nested structures.\")"
   ]
  },
  {
   "cell_type": "code",
   "execution_count": 5,
   "metadata": {},
   "outputs": [
    {
     "name": "stdout",
     "output_type": "stream",
     "text": [
      "CSV Import:\n",
      "[CSV] Loading data from CSV file.\n",
      "[Validate] Basic format check passed.\n",
      "[CSV] Trimming whitespace and parsing dates.\n",
      "[Save] Data saved to database.\n",
      "\n",
      "JSON Import:\n",
      "[JSON] Loading data from JSON file.\n",
      "[JSON] Checking JSON schema validation.\n",
      "[JSON] Flattening nested structures.\n",
      "[Save] Data saved to database.\n"
     ]
    }
   ],
   "source": [
    "# Run the Pipeline\n",
    "\n",
    "if __name__ == \"__main__\":\n",
    "    print(\"CSV Import:\")\n",
    "    csv = CSVImporter()\n",
    "    csv.run()\n",
    "\n",
    "    print(\"\\nJSON Import:\")\n",
    "    json = JSONImporter()\n",
    "    json.run()"
   ]
  },
  {
   "cell_type": "markdown",
   "metadata": {},
   "source": [
    "### Scale up: Add API Importer"
   ]
  },
  {
   "cell_type": "code",
   "execution_count": 6,
   "metadata": {},
   "outputs": [
    {
     "name": "stdout",
     "output_type": "stream",
     "text": [
      "[API] Fetching data from remote API...\n",
      "[API] Verifying API response format.\n",
      "[API] Mapping response to internal model.\n",
      "[Save] Data saved to database.\n"
     ]
    }
   ],
   "source": [
    "class APIImporter(DataImporter):\n",
    "    def load(self):\n",
    "        print(\"[API] Fetching data from remote API...\")\n",
    "\n",
    "    def validate(self):\n",
    "        print(\"[API] Verifying API response format.\")\n",
    "\n",
    "    def transform(self):\n",
    "        print(\"[API] Mapping response to internal model.\")\n",
    "\n",
    "if __name__ == \"__main__\":\n",
    "    ...\n",
    "    api = APIImporter()\n",
    "    api.run()"
   ]
  },
  {
   "cell_type": "code",
   "execution_count": null,
   "metadata": {},
   "outputs": [],
   "source": []
  }
 ],
 "metadata": {
  "kernelspec": {
   "display_name": "advertisex_pj",
   "language": "python",
   "name": "python3"
  },
  "language_info": {
   "codemirror_mode": {
    "name": "ipython",
    "version": 3
   },
   "file_extension": ".py",
   "mimetype": "text/x-python",
   "name": "python",
   "nbconvert_exporter": "python",
   "pygments_lexer": "ipython3",
   "version": "3.9.6"
  }
 },
 "nbformat": 4,
 "nbformat_minor": 2
}
