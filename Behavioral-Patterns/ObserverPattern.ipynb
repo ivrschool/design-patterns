{
 "cells": [
  {
   "cell_type": "code",
   "execution_count": 1,
   "metadata": {},
   "outputs": [],
   "source": [
    "#Define Observer Interface\n",
    "from abc import ABC, abstractmethod\n",
    "\n",
    "class Observer(ABC):\n",
    "    @abstractmethod\n",
    "    def update(self, temperature: float):\n",
    "        pass"
   ]
  },
  {
   "cell_type": "code",
   "execution_count": 2,
   "metadata": {},
   "outputs": [],
   "source": [
    "#Create Subjects\n",
    "\n",
    "class Thermostat:\n",
    "    def __init__(self):\n",
    "        self._observers = []\n",
    "        self._temperature = 25.0  # default room temp\n",
    "    \n",
    "    def attach(self, observer: Observer):\n",
    "        self._observers.append(observer)\n",
    "    \n",
    "    def detach(self, observer: Observer):\n",
    "        self._observers.remove(observer)\n",
    "\n",
    "    def notify(self):\n",
    "        for observer in self._observers:\n",
    "            observer.update(self._temperature)\n",
    "\n",
    "    def set_temperature(self, new_temp: float):\n",
    "        print(f\"[Thermostat] Temperature changed to {new_temp}°C\")\n",
    "        self._temperature = new_temp\n",
    "        self.notify()"
   ]
  },
  {
   "cell_type": "code",
   "execution_count": 3,
   "metadata": {},
   "outputs": [],
   "source": [
    "#Build the listeners\n",
    "\n",
    "class AirConditioner(Observer):\n",
    "    def update(self, temperature: float):\n",
    "        if temperature > 26:\n",
    "            print(\"[AC] It's hot! Turning on the air conditioner.\")\n",
    "        else:\n",
    "            print(\"[AC] Temperature is fine. AC remains off.\")\n",
    "\n",
    "class MobileApp(Observer):\n",
    "    def update(self, temperature: float):\n",
    "        print(f\"[MobileApp] Notification: Temperature updated to {temperature}°C.\")\n",
    "\n",
    "class LoggerSystem(Observer):\n",
    "    def update(self, temperature: float):\n",
    "        print(f\"[Logger] Logging temperature change: {temperature}°C.\")"
   ]
  },
  {
   "cell_type": "code",
   "execution_count": 4,
   "metadata": {},
   "outputs": [
    {
     "name": "stdout",
     "output_type": "stream",
     "text": [
      "[Thermostat] Temperature changed to 25°C\n",
      "[AC] Temperature is fine. AC remains off.\n",
      "[MobileApp] Notification: Temperature updated to 25°C.\n",
      "[Logger] Logging temperature change: 25°C.\n",
      "-----\n",
      "[Thermostat] Temperature changed to 28°C\n",
      "[AC] It's hot! Turning on the air conditioner.\n",
      "[MobileApp] Notification: Temperature updated to 28°C.\n",
      "[Logger] Logging temperature change: 28°C.\n"
     ]
    }
   ],
   "source": [
    "#Client Code\n",
    "\n",
    "if __name__ == \"__main__\":\n",
    "    # Create subject and observers\n",
    "    thermostat = Thermostat()\n",
    "    ac = AirConditioner()\n",
    "    app = MobileApp()\n",
    "    logger = LoggerSystem()\n",
    "\n",
    "    # Register observers\n",
    "    thermostat.attach(ac)\n",
    "    thermostat.attach(app)\n",
    "    thermostat.attach(logger)\n",
    "\n",
    "    # Simulate changes\n",
    "    thermostat.set_temperature(25)\n",
    "    print(\"-----\")\n",
    "    thermostat.set_temperature(28)"
   ]
  },
  {
   "cell_type": "code",
   "execution_count": null,
   "metadata": {},
   "outputs": [],
   "source": []
  }
 ],
 "metadata": {
  "kernelspec": {
   "display_name": "advertisex_pj",
   "language": "python",
   "name": "python3"
  },
  "language_info": {
   "codemirror_mode": {
    "name": "ipython",
    "version": 3
   },
   "file_extension": ".py",
   "mimetype": "text/x-python",
   "name": "python",
   "nbconvert_exporter": "python",
   "pygments_lexer": "ipython3",
   "version": "3.9.6"
  }
 },
 "nbformat": 4,
 "nbformat_minor": 2
}
