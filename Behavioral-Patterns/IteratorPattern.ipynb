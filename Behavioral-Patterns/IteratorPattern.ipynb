{
 "cells": [
  {
   "cell_type": "markdown",
   "metadata": {},
   "source": [
    "### Naive Approach"
   ]
  },
  {
   "cell_type": "code",
   "execution_count": 2,
   "metadata": {},
   "outputs": [
    {
     "name": "stdout",
     "output_type": "stream",
     "text": [
      "Reading: Atomic Habits\n",
      "Reading: Deep Work\n",
      "Reading: The Alchemist\n"
     ]
    }
   ],
   "source": [
    "class BookCollection:\n",
    "    def __init__(self):\n",
    "        self.books = [\"Atomic Habits\", \"Deep Work\", \"The Alchemist\"]\n",
    "\n",
    "    def get_books(self):\n",
    "        return self.books\n",
    "\n",
    "if __name__ == \"__main__\":\n",
    "    collection = BookCollection()\n",
    "    books = collection.get_books()\n",
    "\n",
    "    for book in books:\n",
    "        print(f\"Reading: {book}\")"
   ]
  },
  {
   "cell_type": "markdown",
   "metadata": {},
   "source": [
    "# digital library app"
   ]
  },
  {
   "cell_type": "markdown",
   "metadata": {},
   "source": [
    "### use Iterator Pattern"
   ]
  },
  {
   "cell_type": "code",
   "execution_count": 5,
   "metadata": {},
   "outputs": [],
   "source": [
    "#Define Iterator Interface\n",
    "from abc import ABC, abstractmethod\n",
    "\n",
    "class Iterator(ABC):\n",
    "\n",
    "    @abstractmethod\n",
    "    def has_next(self) -> bool:\n",
    "        pass\n",
    "\n",
    "    @abstractmethod\n",
    "    def next(self):\n",
    "        pass"
   ]
  },
  {
   "cell_type": "code",
   "execution_count": 6,
   "metadata": {},
   "outputs": [],
   "source": [
    "#Create the Aggregate (BookCollection)\n",
    "\n",
    "class Book:\n",
    "    def __init__(self, title):\n",
    "        self.title = title\n",
    "\n",
    "class BookCollection:\n",
    "    def __init__(self):\n",
    "        self.books = []\n",
    "\n",
    "    def add_book(self, book: Book):\n",
    "        self.books.append(book)\n",
    "\n",
    "    def get_iterator(self):\n",
    "        return BookIterator(self.books)"
   ]
  },
  {
   "cell_type": "code",
   "execution_count": 7,
   "metadata": {},
   "outputs": [],
   "source": [
    "#Create Book Iterator\n",
    "class BookIterator(Iterator):\n",
    "    def __init__(self, books):\n",
    "        self.books = books\n",
    "        self.index = 0\n",
    "\n",
    "    def has_next(self) -> bool:\n",
    "        return self.index < len(self.books)\n",
    "\n",
    "    def next(self):\n",
    "        if self.has_next():\n",
    "            book = self.books[self.index]\n",
    "            self.index += 1\n",
    "            return book\n",
    "        raise StopIteration"
   ]
  },
  {
   "cell_type": "code",
   "execution_count": 8,
   "metadata": {},
   "outputs": [
    {
     "name": "stdout",
     "output_type": "stream",
     "text": [
      "Reading: Atomic Habits\n",
      "Reading: The Alchemist\n",
      "Reading: Deep Work\n"
     ]
    }
   ],
   "source": [
    "#Client Code\n",
    "\n",
    "if __name__ == \"__main__\":\n",
    "    collection = BookCollection()\n",
    "    collection.add_book(Book(\"Atomic Habits\"))\n",
    "    collection.add_book(Book(\"The Alchemist\"))\n",
    "    collection.add_book(Book(\"Deep Work\"))\n",
    "\n",
    "    iterator = collection.get_iterator()\n",
    "\n",
    "    while iterator.has_next():\n",
    "        book = iterator.next()\n",
    "        print(f\"Reading: {book.title}\")"
   ]
  },
  {
   "cell_type": "markdown",
   "metadata": {},
   "source": [
    "### Scale up: Add Reverse Iterator"
   ]
  },
  {
   "cell_type": "code",
   "execution_count": 9,
   "metadata": {},
   "outputs": [
    {
     "name": "stdout",
     "output_type": "stream",
     "text": [
      "Reverse Order:\n",
      "Reading: Deep Work\n",
      "Reading: The Alchemist\n",
      "Reading: Atomic Habits\n"
     ]
    }
   ],
   "source": [
    "class ReverseBookIterator(Iterator):\n",
    "    def __init__(self, books):\n",
    "        self.books = books\n",
    "        self.index = len(books) - 1\n",
    "\n",
    "    def has_next(self) -> bool:\n",
    "        return self.index >= 0\n",
    "\n",
    "    def next(self):\n",
    "        if self.has_next():\n",
    "            book = self.books[self.index]\n",
    "            self.index -= 1\n",
    "            return book\n",
    "        raise StopIteration\n",
    "\n",
    "if __name__ == \"__main__\":\n",
    "    \n",
    "    ...\n",
    "\n",
    "    print(\"Reverse Order:\")\n",
    "    reverse_iterator = ReverseBookIterator(collection.books)\n",
    "\n",
    "    while reverse_iterator.has_next():\n",
    "        book = reverse_iterator.next()\n",
    "        print(f\"Reading: {book.title}\")"
   ]
  }
 ],
 "metadata": {
  "kernelspec": {
   "display_name": "advertisex_pj",
   "language": "python",
   "name": "python3"
  },
  "language_info": {
   "codemirror_mode": {
    "name": "ipython",
    "version": 3
   },
   "file_extension": ".py",
   "mimetype": "text/x-python",
   "name": "python",
   "nbconvert_exporter": "python",
   "pygments_lexer": "ipython3",
   "version": "3.9.6"
  }
 },
 "nbformat": 4,
 "nbformat_minor": 2
}
