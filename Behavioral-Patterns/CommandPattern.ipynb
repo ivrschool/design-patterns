{
 "cells": [
  {
   "cell_type": "code",
   "execution_count": 1,
   "metadata": {},
   "outputs": [],
   "source": [
    "# Define the Command Interface\n",
    "\n",
    "from abc import ABC, abstractmethod\n",
    "\n",
    "class Command(ABC):\n",
    "    @abstractmethod\n",
    "    def execute(self):\n",
    "        pass\n",
    "    @abstractmethod\n",
    "    def undo(self):\n",
    "        pass"
   ]
  },
  {
   "cell_type": "code",
   "execution_count": 2,
   "metadata": {},
   "outputs": [],
   "source": [
    "# Create Receivers (Actual Device)\n",
    "\n",
    "class Light:\n",
    "    def on(self):\n",
    "        print(\"[Light] The light is ON.\")\n",
    "\n",
    "    def off(self):\n",
    "        print(\"[Light] The light is OFF.\")\n",
    "\n",
    "class Fan:\n",
    "    def on(self):\n",
    "        print(\"[Fan] The fan is spinning.\")\n",
    "\n",
    "    def off(self):\n",
    "        print(\"[Fan] The fan is stopped.\")"
   ]
  },
  {
   "cell_type": "code",
   "execution_count": 3,
   "metadata": {},
   "outputs": [],
   "source": [
    "# Create Concrete Command Classes\n",
    "\n",
    "class LightOnCommand(Command):\n",
    "    def __init__(self, light: Light):\n",
    "        self.light = light\n",
    "\n",
    "    def execute(self):\n",
    "        self.light.on()\n",
    "\n",
    "    def undo(self):\n",
    "        self.light.off()\n",
    "\n",
    "class FanOnCommand(Command):\n",
    "    def __init__(self, fan: Fan):\n",
    "        self.fan = fan\n",
    "\n",
    "    def execute(self):\n",
    "        self.fan.on()\n",
    "\n",
    "    def undo(self):\n",
    "        self.fan.off()"
   ]
  },
  {
   "cell_type": "code",
   "execution_count": 4,
   "metadata": {},
   "outputs": [],
   "source": [
    "# Create Invoker (Remote Control)\n",
    "\n",
    "class RemoteControl:\n",
    "    def __init__(self):\n",
    "        self.history = []\n",
    "\n",
    "    def press_button(self, command: Command):\n",
    "        command.execute()\n",
    "        self.history.append(command)\n",
    "\n",
    "    def press_undo(self):\n",
    "        if self.history:\n",
    "            last_command = self.history.pop()\n",
    "            print(\"[Remote] Undoing last command...\")\n",
    "            last_command.undo()\n",
    "        else:\n",
    "            print(\"[Remote] No command to undo.\")"
   ]
  },
  {
   "cell_type": "code",
   "execution_count": 5,
   "metadata": {},
   "outputs": [
    {
     "name": "stdout",
     "output_type": "stream",
     "text": [
      "[Light] The light is ON.\n",
      "[Fan] The fan is spinning.\n",
      "[Remote] Undoing last command...\n",
      "[Fan] The fan is stopped.\n",
      "[Remote] Undoing last command...\n",
      "[Light] The light is OFF.\n",
      "[Remote] No command to undo.\n"
     ]
    }
   ],
   "source": [
    "# Client Code\n",
    "\n",
    "if __name__ == \"__main__\":\n",
    "    # Devices\n",
    "    light = Light()\n",
    "    fan = Fan()\n",
    "\n",
    "    # Commands\n",
    "    light_on = LightOnCommand(light)\n",
    "    fan_on = FanOnCommand(fan)\n",
    "\n",
    "    # Remote\n",
    "    remote = RemoteControl()\n",
    "    remote.press_button(light_on)\n",
    "    remote.press_button(fan_on)\n",
    "\n",
    "    # Undo the last two actions\n",
    "    remote.press_undo()\n",
    "    remote.press_undo()\n",
    "    remote.press_undo()"
   ]
  },
  {
   "cell_type": "markdown",
   "metadata": {},
   "source": [
    "### Add new device (door)"
   ]
  },
  {
   "cell_type": "code",
   "execution_count": 6,
   "metadata": {},
   "outputs": [],
   "source": [
    "# Add door\n",
    "\n",
    "class Door:\n",
    "    def open(self):\n",
    "        print(\"[Door] The door is open.\")\n",
    "\n",
    "    def close(self):\n",
    "        print(\"[Door] The door is closed.\")"
   ]
  },
  {
   "cell_type": "code",
   "execution_count": 7,
   "metadata": {},
   "outputs": [],
   "source": [
    "# Command\n",
    "\n",
    "class DoorOpenCommand(Command):\n",
    "    def __init__(self, door: Door):\n",
    "        self.door = door\n",
    "\n",
    "    def execute(self):\n",
    "        self.door.open()\n",
    "\n",
    "    def undo(self):\n",
    "        self.door.close()"
   ]
  },
  {
   "cell_type": "code",
   "execution_count": 8,
   "metadata": {},
   "outputs": [
    {
     "name": "stdout",
     "output_type": "stream",
     "text": [
      "[Door] The door is open.\n",
      "[Remote] Undoing last command...\n",
      "[Door] The door is closed.\n"
     ]
    }
   ],
   "source": [
    "# Client Code:\n",
    "\n",
    "if __name__ == \"__main__\":\n",
    "    door = Door()\n",
    "    door_open = DoorOpenCommand(door)\n",
    "\n",
    "    remote.press_button(door_open)\n",
    "    remote.press_undo()"
   ]
  },
  {
   "cell_type": "code",
   "execution_count": null,
   "metadata": {},
   "outputs": [],
   "source": []
  }
 ],
 "metadata": {
  "kernelspec": {
   "display_name": "advertisex_pj",
   "language": "python",
   "name": "python3"
  },
  "language_info": {
   "codemirror_mode": {
    "name": "ipython",
    "version": 3
   },
   "file_extension": ".py",
   "mimetype": "text/x-python",
   "name": "python",
   "nbconvert_exporter": "python",
   "pygments_lexer": "ipython3",
   "version": "3.9.6"
  }
 },
 "nbformat": 4,
 "nbformat_minor": 2
}
