{
 "cells": [
  {
   "cell_type": "code",
   "execution_count": 1,
   "metadata": {},
   "outputs": [],
   "source": [
    "#Define Strategy Interface\n",
    "\n",
    "from abc import ABC, abstractmethod\n",
    "\n",
    "class RouteStrategy(ABC):\n",
    "    @abstractmethod\n",
    "    def calculate_route(self, start: str, end: str) -> str:\n",
    "        pass"
   ]
  },
  {
   "cell_type": "code",
   "execution_count": 2,
   "metadata": {},
   "outputs": [],
   "source": [
    "#Implement Concrete Strategy\n",
    "\n",
    "class WalkingStrategy(RouteStrategy):\n",
    "    def calculate_route(self, start: str, end: str) -> str:\n",
    "        return f\"Walking route from {start} to {end} through parks and lanes.\"\n",
    "\n",
    "class BikingStrategy(RouteStrategy):\n",
    "    def calculate_route(self, start: str, end: str) -> str:\n",
    "        return f\"Biking route from {start} to {end} using bike lanes.\"\n",
    "\n",
    "class DrivingStrategy(RouteStrategy):\n",
    "    def calculate_route(self, start: str, end: str) -> str:\n",
    "        return f\"Driving route from {start} to {end} via highways and main roads.\""
   ]
  },
  {
   "cell_type": "code",
   "execution_count": 3,
   "metadata": {},
   "outputs": [],
   "source": [
    "#Create the Context\n",
    "\n",
    "class RoutePlanner:\n",
    "    def __init__(self, strategy: RouteStrategy):\n",
    "        self._strategy = strategy\n",
    "\n",
    "    def set_strategy(self, strategy: RouteStrategy):\n",
    "        self._strategy = strategy\n",
    "\n",
    "    def get_route(self, start: str, end: str):\n",
    "        return self._strategy.calculate_route(start, end)"
   ]
  },
  {
   "cell_type": "code",
   "execution_count": 4,
   "metadata": {},
   "outputs": [
    {
     "name": "stdout",
     "output_type": "stream",
     "text": [
      "Walking route from Home to Office through parks and lanes.\n",
      "Biking route from Home to Office using bike lanes.\n",
      "Driving route from Home to Office via highways and main roads.\n"
     ]
    }
   ],
   "source": [
    "# Client Code\n",
    "\n",
    "if __name__ == \"__main__\":\n",
    "    start = \"Home\"\n",
    "    end = \"Office\"\n",
    "\n",
    "    planner = RoutePlanner(WalkingStrategy())\n",
    "    print(planner.get_route(start, end))\n",
    "\n",
    "    planner.set_strategy(BikingStrategy())\n",
    "    print(planner.get_route(start, end))\n",
    "\n",
    "    planner.set_strategy(DrivingStrategy())\n",
    "    print(planner.get_route(start, end))"
   ]
  },
  {
   "cell_type": "markdown",
   "metadata": {},
   "source": [
    "### Add drone delivery"
   ]
  },
  {
   "cell_type": "code",
   "execution_count": 5,
   "metadata": {},
   "outputs": [],
   "source": [
    "# Add new Strategy\n",
    "\n",
    "class DroneDeliveryStrategy(RouteStrategy):\n",
    "    def calculate_route(self, start: str, end: str) -> str:\n",
    "        return f\"Drone delivery route from {start} to {end} using air navigation paths.\""
   ]
  },
  {
   "cell_type": "code",
   "execution_count": 6,
   "metadata": {},
   "outputs": [
    {
     "name": "stdout",
     "output_type": "stream",
     "text": [
      "Walking route from Home to Office through parks and lanes.\n",
      "Biking route from Home to Office using bike lanes.\n",
      "Driving route from Home to Office via highways and main roads.\n",
      "Drone delivery route from Home to Office using air navigation paths.\n"
     ]
    }
   ],
   "source": [
    "if __name__ == \"__main__\":\n",
    "\n",
    "    start = \"Home\"\n",
    "    end = \"Office\"\n",
    "\n",
    "    planner = RoutePlanner(WalkingStrategy())\n",
    "    print(planner.get_route(start, end))\n",
    "\n",
    "    planner.set_strategy(BikingStrategy())\n",
    "    print(planner.get_route(start, end))\n",
    "\n",
    "    planner.set_strategy(DrivingStrategy())\n",
    "    print(planner.get_route(start, end))\n",
    "\n",
    "    # Add this to your existing main block\n",
    "    planner.set_strategy(DroneDeliveryStrategy())\n",
    "    print(planner.get_route(start, end))"
   ]
  },
  {
   "cell_type": "code",
   "execution_count": null,
   "metadata": {},
   "outputs": [],
   "source": []
  }
 ],
 "metadata": {
  "kernelspec": {
   "display_name": "advertisex_pj",
   "language": "python",
   "name": "python3"
  },
  "language_info": {
   "codemirror_mode": {
    "name": "ipython",
    "version": 3
   },
   "file_extension": ".py",
   "mimetype": "text/x-python",
   "name": "python",
   "nbconvert_exporter": "python",
   "pygments_lexer": "ipython3",
   "version": "3.9.6"
  }
 },
 "nbformat": 4,
 "nbformat_minor": 2
}
