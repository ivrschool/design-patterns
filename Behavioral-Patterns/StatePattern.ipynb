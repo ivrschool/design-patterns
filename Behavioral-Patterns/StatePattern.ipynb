{
 "cells": [
  {
   "cell_type": "code",
   "execution_count": 1,
   "metadata": {},
   "outputs": [],
   "source": [
    "# Define State Interface\n",
    "\n",
    "from abc import ABC, abstractmethod\n",
    "\n",
    "class State(ABC):\n",
    "    @abstractmethod\n",
    "    def handle(self, context):\n",
    "        pass"
   ]
  },
  {
   "cell_type": "code",
   "execution_count": 2,
   "metadata": {},
   "outputs": [],
   "source": [
    "# implement Concrete State\n",
    "\n",
    "class RedState(State):\n",
    "    def handle(self, context):\n",
    "        print(\"Red Light - Stop\")\n",
    "        context.set_state(GreenState())\n",
    "\n",
    "class GreenState(State):\n",
    "    def handle(self, context):\n",
    "        print(\"Green Light - Go\")\n",
    "        context.set_state(YellowState())\n",
    "\n",
    "class YellowState(State):\n",
    "    def handle(self, context):\n",
    "        print(\"Yellow Light - Caution\")\n",
    "        context.set_state(RedState())"
   ]
  },
  {
   "cell_type": "code",
   "execution_count": 3,
   "metadata": {},
   "outputs": [],
   "source": [
    "# Create Context\n",
    "\n",
    "class TrafficLight:\n",
    "    def __init__(self):\n",
    "        self.state = RedState()\n",
    "\n",
    "    def set_state(self, state):\n",
    "        self.state = state\n",
    "\n",
    "    def request(self):\n",
    "        self.state.handle(self)"
   ]
  },
  {
   "cell_type": "code",
   "execution_count": 4,
   "metadata": {},
   "outputs": [
    {
     "name": "stdout",
     "output_type": "stream",
     "text": [
      "Red Light - Stop\n",
      "Green Light - Go\n",
      "Yellow Light - Caution\n",
      "Red Light - Stop\n",
      "Green Light - Go\n",
      "Yellow Light - Caution\n"
     ]
    }
   ],
   "source": [
    "#Client code:\n",
    "\n",
    "if __name__ == \"__main__\":\n",
    "    light = TrafficLight()\n",
    "    for _ in range(6):\n",
    "        light.request()"
   ]
  },
  {
   "cell_type": "markdown",
   "metadata": {},
   "source": [
    "### Add new blinking state"
   ]
  },
  {
   "cell_type": "code",
   "execution_count": 5,
   "metadata": {},
   "outputs": [],
   "source": [
    "class BlinkingState(State):\n",
    "    def handle(self, context):\n",
    "        print(\"Blinking Light - Maintenance Mode\")\n",
    "        # Let's assume it goes back to Red afterward\n",
    "        context.set_state(RedState())"
   ]
  },
  {
   "cell_type": "code",
   "execution_count": 6,
   "metadata": {},
   "outputs": [],
   "source": [
    "#Yellow Light to go into Blinking before returning to Red:\n",
    "class YellowState(State):\n",
    "    def handle(self, context):\n",
    "        print(\"Yellow Light - Caution\")\n",
    "        context.set_state(BlinkingState())"
   ]
  },
  {
   "cell_type": "code",
   "execution_count": 9,
   "metadata": {},
   "outputs": [
    {
     "name": "stdout",
     "output_type": "stream",
     "text": [
      "Red Light - Stop\n",
      "Green Light - Go\n",
      "Yellow Light - Caution\n",
      "Blinking Light - Maintenance Mode\n",
      "Red Light - Stop\n",
      "Green Light - Go\n"
     ]
    }
   ],
   "source": [
    "#Client code:\n",
    "\n",
    "if __name__ == \"__main__\":\n",
    "    light = TrafficLight()\n",
    "    for _ in range(6):\n",
    "        light.request()"
   ]
  },
  {
   "cell_type": "code",
   "execution_count": null,
   "metadata": {},
   "outputs": [],
   "source": []
  }
 ],
 "metadata": {
  "kernelspec": {
   "display_name": "advertisex_pj",
   "language": "python",
   "name": "python3"
  },
  "language_info": {
   "codemirror_mode": {
    "name": "ipython",
    "version": 3
   },
   "file_extension": ".py",
   "mimetype": "text/x-python",
   "name": "python",
   "nbconvert_exporter": "python",
   "pygments_lexer": "ipython3",
   "version": "3.9.6"
  }
 },
 "nbformat": 4,
 "nbformat_minor": 2
}
