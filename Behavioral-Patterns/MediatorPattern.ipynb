{
 "cells": [
  {
   "cell_type": "markdown",
   "metadata": {},
   "source": [
    "# Chatroom Simulation\n"
   ]
  },
  {
   "cell_type": "markdown",
   "metadata": {},
   "source": [
    "### Without Mediator Pattern"
   ]
  },
  {
   "cell_type": "code",
   "execution_count": 1,
   "metadata": {},
   "outputs": [
    {
     "name": "stdout",
     "output_type": "stream",
     "text": [
      "[Alice] Sending: Hello, team!\n",
      "[Bob] Received from Alice: Hello, team!\n",
      "[Carol] Received from Alice: Hello, team!\n",
      "[Bob] Sending: Hi Alice!\n",
      "[Alice] Received from Bob: Hi Alice!\n",
      "[Carol] Received from Bob: Hi Alice!\n"
     ]
    }
   ],
   "source": [
    "class User:\n",
    "    def __init__(self, name):\n",
    "        self.name = name\n",
    "        self.contacts = []\n",
    "\n",
    "    def add_contact(self, user):\n",
    "        self.contacts.append(user)\n",
    "\n",
    "    def send(self, message):\n",
    "        print(f\"[{self.name}] Sending: {message}\")\n",
    "        for user in self.contacts:\n",
    "            user.receive(self.name, message)\n",
    "\n",
    "    def receive(self, sender, message):\n",
    "        print(f\"[{self.name}] Received from {sender}: {message}\")\n",
    "\n",
    "if __name__ == \"__main__\":\n",
    "    # Create users\n",
    "    alice = User(\"Alice\")\n",
    "    bob = User(\"Bob\")\n",
    "    carol = User(\"Carol\")\n",
    "\n",
    "    # Manually add each other\n",
    "    alice.add_contact(bob)\n",
    "    alice.add_contact(carol)\n",
    "\n",
    "    bob.add_contact(alice)\n",
    "    bob.add_contact(carol)\n",
    "\n",
    "    carol.add_contact(alice)\n",
    "    carol.add_contact(bob)\n",
    "\n",
    "    # Chat\n",
    "    alice.send(\"Hello, team!\")\n",
    "    bob.send(\"Hi Alice!\")"
   ]
  },
  {
   "cell_type": "markdown",
   "metadata": {},
   "source": [
    "# Use Mediator Pattern"
   ]
  },
  {
   "cell_type": "code",
   "execution_count": 2,
   "metadata": {},
   "outputs": [],
   "source": [
    "# Define Mediator Interface\n",
    "\n",
    "from abc import ABC, abstractmethod\n",
    "\n",
    "class ChatroomMediator(ABC):\n",
    "    @abstractmethod\n",
    "    def show_message(self, sender: str, message: str):\n",
    "        pass"
   ]
  },
  {
   "cell_type": "code",
   "execution_count": 3,
   "metadata": {},
   "outputs": [],
   "source": [
    "# Concrete Mediator\n",
    "\n",
    "class Chatroom(ChatroomMediator):\n",
    "    def __init__(self):\n",
    "        self.users = []\n",
    "\n",
    "    def register(self, user):\n",
    "        self.users.append(user)\n",
    "\n",
    "    def show_message(self, sender: str, message: str):\n",
    "        for user in self.users:\n",
    "            if user.name != sender:\n",
    "                user.receive(sender, message)"
   ]
  },
  {
   "cell_type": "code",
   "execution_count": 4,
   "metadata": {},
   "outputs": [],
   "source": [
    "# Use class (Colleague)\n",
    "\n",
    "class User:\n",
    "    def __init__(self, name: str, mediator: ChatroomMediator):\n",
    "        self.name = name\n",
    "        self.mediator = mediator\n",
    "        self.mediator.register(self)\n",
    "\n",
    "    def send(self, message: str):\n",
    "        print(f\"[{self.name}] Sending: {message}\")\n",
    "        self.mediator.show_message(self.name, message)\n",
    "\n",
    "    def receive(self, sender: str, message: str):\n",
    "        print(f\"[{self.name}] Received from {sender}: {message}\")"
   ]
  },
  {
   "cell_type": "code",
   "execution_count": 5,
   "metadata": {},
   "outputs": [
    {
     "name": "stdout",
     "output_type": "stream",
     "text": [
      "[Alice] Sending: Hi everyone!\n",
      "[Bob] Received from Alice: Hi everyone!\n",
      "[Carol] Received from Alice: Hi everyone!\n",
      "[Bob] Sending: Hey Alice!\n",
      "[Alice] Received from Bob: Hey Alice!\n",
      "[Carol] Received from Bob: Hey Alice!\n",
      "[Carol] Sending: Good morning!\n",
      "[Alice] Received from Carol: Good morning!\n",
      "[Bob] Received from Carol: Good morning!\n"
     ]
    }
   ],
   "source": [
    "# Client Code:\n",
    "\n",
    "if __name__ == \"__main__\":\n",
    "    chatroom = Chatroom()\n",
    "\n",
    "    alice = User(\"Alice\", chatroom)\n",
    "    bob = User(\"Bob\", chatroom)\n",
    "    carol = User(\"Carol\", chatroom)\n",
    "\n",
    "    alice.send(\"Hi everyone!\")\n",
    "    bob.send(\"Hey Alice!\")\n",
    "    carol.send(\"Good morning!\")"
   ]
  },
  {
   "cell_type": "code",
   "execution_count": 6,
   "metadata": {},
   "outputs": [
    {
     "name": "stdout",
     "output_type": "stream",
     "text": [
      "[Dave] Sending: Hey, I just joined!\n",
      "[Alice] Received from Dave: Hey, I just joined!\n",
      "[Bob] Received from Dave: Hey, I just joined!\n",
      "[Carol] Received from Dave: Hey, I just joined!\n"
     ]
    }
   ],
   "source": [
    "# Add new member to the chatroom\n",
    "\n",
    "dave = User(\"Dave\", chatroom)\n",
    "dave.send(\"Hey, I just joined!\")"
   ]
  },
  {
   "cell_type": "code",
   "execution_count": null,
   "metadata": {},
   "outputs": [],
   "source": []
  }
 ],
 "metadata": {
  "kernelspec": {
   "display_name": "advertisex_pj",
   "language": "python",
   "name": "python3"
  },
  "language_info": {
   "codemirror_mode": {
    "name": "ipython",
    "version": 3
   },
   "file_extension": ".py",
   "mimetype": "text/x-python",
   "name": "python",
   "nbconvert_exporter": "python",
   "pygments_lexer": "ipython3",
   "version": "3.9.6"
  }
 },
 "nbformat": 4,
 "nbformat_minor": 2
}
