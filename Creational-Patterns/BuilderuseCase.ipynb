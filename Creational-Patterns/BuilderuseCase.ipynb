{
 "cells": [
  {
   "cell_type": "markdown",
   "metadata": {},
   "source": [
    "# Use Case: Building Custom Document Templates for Clients\n",
    "\n",
    "### Each document consists of:\n",
    "\n",
    "- A header (e.g., client name, logo)\n",
    "\n",
    "- A body (e.g., sections like introduction, data tables, summaries)\n",
    "\n",
    "- A footer (e.g., page number, disclaimer)\n",
    "\n",
    "- Styling (e.g., font, margin)\n",
    "\n",
    "We’ll use the Builder Pattern to assemble these document templates flexibly."
   ]
  },
  {
   "cell_type": "code",
   "execution_count": 2,
   "metadata": {},
   "outputs": [],
   "source": [
    "## product"
   ]
  },
  {
   "cell_type": "markdown",
   "metadata": {},
   "source": [
    "## Product"
   ]
  },
  {
   "cell_type": "code",
   "execution_count": 3,
   "metadata": {},
   "outputs": [],
   "source": [
    "class Document:\n",
    "    def __init__(self):\n",
    "        self.header = \"\"\n",
    "        self.body = []\n",
    "        self.footer = \"\"\n",
    "        self.style = {}\n",
    "\n",
    "    def display(self):\n",
    "        print(\"=== DOCUMENT START ===\")\n",
    "        print(f\"Header: {self.header}\\n\")\n",
    "        for section in self.body:\n",
    "            print(f\"Section: {section}\")\n",
    "        print(f\"\\nFooter: {self.footer}\")\n",
    "        print(f\"\\nStyle: {self.style}\")\n",
    "        print(\"=== DOCUMENT END ===\\n\")"
   ]
  },
  {
   "cell_type": "markdown",
   "metadata": {},
   "source": [
    "\n",
    "# Builder Interface"
   ]
  },
  {
   "cell_type": "code",
   "execution_count": 4,
   "metadata": {},
   "outputs": [],
   "source": [
    "from abc import ABC, abstractmethod\n",
    "\n",
    "class DocumentBuilder(ABC):\n",
    "    @abstractmethod\n",
    "    def add_header(self, client_name, logo): pass\n",
    "\n",
    "    @abstractmethod\n",
    "    def add_body_section(self, section): pass\n",
    "\n",
    "    @abstractmethod\n",
    "    def add_footer(self, text): pass\n",
    "\n",
    "    @abstractmethod\n",
    "    def set_style(self, font, margin): pass\n",
    "\n",
    "    @abstractmethod\n",
    "    def build(self): pass\n"
   ]
  },
  {
   "cell_type": "markdown",
   "metadata": {},
   "source": [
    "## Concrete Builder"
   ]
  },
  {
   "cell_type": "code",
   "execution_count": 5,
   "metadata": {},
   "outputs": [],
   "source": [
    "class CustomDocumentBuilder(DocumentBuilder):\n",
    "    def __init__(self):\n",
    "        self.doc = Document()\n",
    "\n",
    "    def add_header(self, client_name, logo):\n",
    "        self.doc.header = f\"{client_name} - Logo: {logo}\"\n",
    "        return self\n",
    "\n",
    "    def add_body_section(self, section):\n",
    "        self.doc.body.append(section)\n",
    "        return self\n",
    "\n",
    "    def add_footer(self, text):\n",
    "        self.doc.footer = text\n",
    "        return self\n",
    "\n",
    "    def set_style(self, font, margin):\n",
    "        self.doc.style = {\"font\": font, \"margin\": margin}\n",
    "        return self\n",
    "\n",
    "    def build(self):\n",
    "        return self.doc"
   ]
  },
  {
   "cell_type": "markdown",
   "metadata": {},
   "source": [
    "## Director (Optional)"
   ]
  },
  {
   "cell_type": "code",
   "execution_count": 6,
   "metadata": {},
   "outputs": [],
   "source": [
    "class DocumentDirector:\n",
    "    def __init__(self, builder: DocumentBuilder):\n",
    "        self.builder = builder\n",
    "\n",
    "    def build_financial_report(self):\n",
    "        return (self.builder.add_header(\"ACME Finance Inc.\", \"finance_logo.png\")\n",
    "                           .add_body_section(\"Executive Summary\")\n",
    "                           .add_body_section(\"Balance Sheet\")\n",
    "                           .add_body_section(\"Profit & Loss Statement\")\n",
    "                           .add_footer(\"Confidential. For internal use only.\")\n",
    "                           .set_style(\"Calibri\", \"1in\")\n",
    "                           .build())\n",
    "\n",
    "    def build_marketing_report(self):\n",
    "        return (self.builder.add_header(\"PixelSpark Marketing\", \"spark_logo.png\")\n",
    "                           .add_body_section(\"Campaign Overview\")\n",
    "                           .add_body_section(\"Performance Metrics\")\n",
    "                           .add_footer(\"All rights reserved © 2025\")\n",
    "                           .set_style(\"Helvetica\", \"1.5in\")\n",
    "                           .build())"
   ]
  },
  {
   "cell_type": "markdown",
   "metadata": {},
   "source": [
    "## Client Code"
   ]
  },
  {
   "cell_type": "code",
   "execution_count": 7,
   "metadata": {},
   "outputs": [
    {
     "name": "stdout",
     "output_type": "stream",
     "text": [
      "=== DOCUMENT START ===\n",
      "Header: ACME Finance Inc. - Logo: finance_logo.png\n",
      "\n",
      "Section: Executive Summary\n",
      "Section: Balance Sheet\n",
      "Section: Profit & Loss Statement\n",
      "\n",
      "Footer: Confidential. For internal use only.\n",
      "\n",
      "Style: {'font': 'Calibri', 'margin': '1in'}\n",
      "=== DOCUMENT END ===\n",
      "\n",
      "=== DOCUMENT START ===\n",
      "Header: Startup X - Logo: startupx_logo.svg\n",
      "\n",
      "Section: About Us\n",
      "Section: User Growth\n",
      "Section: Revenue Projection\n",
      "\n",
      "Footer: Draft Version - Subject to Change\n",
      "\n",
      "Style: {'font': 'Times New Roman', 'margin': '2cm'}\n",
      "=== DOCUMENT END ===\n",
      "\n"
     ]
    }
   ],
   "source": [
    "if __name__ == \"__main__\":\n",
    "    # Predefined template via Director\n",
    "    builder1 = CustomDocumentBuilder()\n",
    "    director = DocumentDirector(builder1)\n",
    "    financial_doc = director.build_financial_report()\n",
    "    financial_doc.display()\n",
    "\n",
    "    # Fully customizable document from client\n",
    "    builder2 = CustomDocumentBuilder()\n",
    "    custom_doc = (builder2.add_header(\"Startup X\", \"startupx_logo.svg\")\n",
    "                          .add_body_section(\"About Us\")\n",
    "                          .add_body_section(\"User Growth\")\n",
    "                          .add_body_section(\"Revenue Projection\")\n",
    "                          .add_footer(\"Draft Version - Subject to Change\")\n",
    "                          .set_style(\"Times New Roman\", \"2cm\")\n",
    "                          .build())\n",
    "    custom_doc.display()"
   ]
  },
  {
   "cell_type": "code",
   "execution_count": null,
   "metadata": {},
   "outputs": [],
   "source": []
  }
 ],
 "metadata": {
  "kernelspec": {
   "display_name": "advertisex_pj",
   "language": "python",
   "name": "python3"
  },
  "language_info": {
   "codemirror_mode": {
    "name": "ipython",
    "version": 3
   },
   "file_extension": ".py",
   "mimetype": "text/x-python",
   "name": "python",
   "nbconvert_exporter": "python",
   "pygments_lexer": "ipython3",
   "version": "3.9.6"
  }
 },
 "nbformat": 4,
 "nbformat_minor": 2
}
