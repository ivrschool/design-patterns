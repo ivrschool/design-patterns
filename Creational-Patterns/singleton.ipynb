{
 "cells": [
  {
   "cell_type": "markdown",
   "metadata": {},
   "source": [
    "# Creational Design Pattern"
   ]
  },
  {
   "cell_type": "markdown",
   "metadata": {},
   "source": [
    "### Ref: \n",
    "1. https://medium.com/fundamentals-of-artificial-intellegence/understanding-new-super-and-cls-in-python-0484f4c35c69\n",
    "2. https://medium.com/fundamentals-of-artificial-intellegence/creational-design-pattern-singleton-a5450edf23b6"
   ]
  },
  {
   "cell_type": "markdown",
   "metadata": {},
   "source": [
    "## Singleton Logger"
   ]
  },
  {
   "cell_type": "code",
   "execution_count": 1,
   "metadata": {},
   "outputs": [
    {
     "name": "stdout",
     "output_type": "stream",
     "text": [
      "LOG: App started\n",
      "LOG: Something happened\n",
      "True\n"
     ]
    }
   ],
   "source": [
    "class Logger:\n",
    "    _instance = None\n",
    "    def __new__(cls):\n",
    "          if cls._instance is None:\n",
    "              cls._instance = super(Logger, cls).__new__(cls)\n",
    "              cls._instance.logs = []\n",
    "          return cls._instance\n",
    "    def log(self, message):\n",
    "        self.logs.append(message)\n",
    "        print(f\"LOG: {message}\")\n",
    "# Usage\n",
    "logger1 = Logger()\n",
    "logger2 = Logger()\n",
    "logger1.log(\"App started\")\n",
    "logger2.log(\"Something happened\")\n",
    "print(logger1 is logger2)  # Output: True"
   ]
  },
  {
   "cell_type": "markdown",
   "metadata": {},
   "source": [
    "## App Configuration Manager"
   ]
  },
  {
   "cell_type": "code",
   "execution_count": 2,
   "metadata": {},
   "outputs": [
    {
     "name": "stdout",
     "output_type": "stream",
     "text": [
      "dark\n",
      "True\n"
     ]
    }
   ],
   "source": [
    "class AppConfig:\n",
    "    _instance = None\n",
    "    def __new__(cls, settings_file=\"config.json\"):\n",
    "          if cls._instance is None:\n",
    "              cls._instance = super().__new__(cls)\n",
    "              cls._instance._load_settings(settings_file)\n",
    "          return cls._instance\n",
    "    def _load_settings(self, filename):\n",
    "        self.settings = {\n",
    "            \"theme\": \"dark\",\n",
    "            \"language\": \"en\"\n",
    "        }\n",
    "    def get(self, key):\n",
    "        return self.settings.get(key)\n",
    "# Usage\n",
    "config1 = AppConfig()\n",
    "config2 = AppConfig()\n",
    "print(config1.get(\"theme\"))   # dark\n",
    "print(config1 is config2)     # True"
   ]
  },
  {
   "cell_type": "markdown",
   "metadata": {},
   "source": [
    "## Database Connection"
   ]
  },
  {
   "cell_type": "code",
   "execution_count": 3,
   "metadata": {},
   "outputs": [
    {
     "name": "stdout",
     "output_type": "stream",
     "text": [
      "Establishing DB connection...\n",
      "Running SQL: SELECT * FROM users\n",
      "Running SQL: SELECT * FROM orders\n",
      "True\n"
     ]
    }
   ],
   "source": [
    "class DatabaseConnection:\n",
    "    _instance = None\n",
    "    def __new__(cls):\n",
    "        if cls._instance is None:\n",
    "            print(\"Establishing DB connection...\")\n",
    "            cls._instance = super().__new__(cls)\n",
    "        return cls._instance\n",
    "    def query(self, sql):\n",
    "        print(f\"Running SQL: {sql}\")\n",
    "# Usage\n",
    "db1 = DatabaseConnection()\n",
    "db2 = DatabaseConnection()\n",
    "db1.query(\"SELECT * FROM users\")\n",
    "db2.query(\"SELECT * FROM orders\")\n",
    "print(db1 is db2)  # True"
   ]
  },
  {
   "cell_type": "markdown",
   "metadata": {},
   "source": [
    "# When not to use"
   ]
  },
  {
   "cell_type": "code",
   "execution_count": null,
   "metadata": {},
   "outputs": [],
   "source": []
  },
  {
   "cell_type": "markdown",
   "metadata": {},
   "source": [
    "## User Profiles"
   ]
  },
  {
   "cell_type": "code",
   "execution_count": 4,
   "metadata": {},
   "outputs": [
    {
     "name": "stdout",
     "output_type": "stream",
     "text": [
      "Bob\n",
      "Bob\n"
     ]
    }
   ],
   "source": [
    "class UserProfile:\n",
    "    _instance = None\n",
    "    def __new__(cls, name, age):\n",
    "        if cls._instance is None:\n",
    "            cls._instance = super().__new__(cls)\n",
    "        cls._instance.name = name\n",
    "        cls._instance.age = age\n",
    "        return cls._instance\n",
    "# Usage\n",
    "user1 = UserProfile(\"Alice\", 25)\n",
    "user2 = UserProfile(\"Bob\", 30)\n",
    "print(user1.name)  # Bob\n",
    "print(user2.name)  # Bob"
   ]
  },
  {
   "cell_type": "markdown",
   "metadata": {},
   "source": [
    "### Correct Way: Use Separate Instances"
   ]
  },
  {
   "cell_type": "code",
   "execution_count": 5,
   "metadata": {},
   "outputs": [
    {
     "name": "stdout",
     "output_type": "stream",
     "text": [
      "Alice\n",
      "Bob\n"
     ]
    }
   ],
   "source": [
    "class UserProfile:\n",
    "    def __init__(self, name, age):\n",
    "        self.name = name\n",
    "        self.age = age\n",
    "user1 = UserProfile(\"Alice\", 25)\n",
    "user2 = UserProfile(\"Bob\", 30)\n",
    "print(user1.name)  # Alice\n",
    "print(user2.name)  # Bob"
   ]
  }
 ],
 "metadata": {
  "kernelspec": {
   "display_name": "advertisex_pj",
   "language": "python",
   "name": "python3"
  },
  "language_info": {
   "codemirror_mode": {
    "name": "ipython",
    "version": 3
   },
   "file_extension": ".py",
   "mimetype": "text/x-python",
   "name": "python",
   "nbconvert_exporter": "python",
   "pygments_lexer": "ipython3",
   "version": "3.9.6"
  }
 },
 "nbformat": 4,
 "nbformat_minor": 2
}
