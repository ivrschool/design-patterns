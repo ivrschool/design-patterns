{
 "cells": [
  {
   "cell_type": "markdown",
   "metadata": {},
   "source": [
    "# Prototype (Base Class)"
   ]
  },
  {
   "cell_type": "code",
   "execution_count": 1,
   "metadata": {},
   "outputs": [],
   "source": [
    "import copy\n",
    "\n",
    "class Document:\n",
    "    def __init__(self, title, body, author, watermark=None):\n",
    "        self.title = title\n",
    "        self.body = body\n",
    "        self.author = author\n",
    "        self.watermark = watermark\n",
    "    def show(self):\n",
    "        print(f\"Title: {self.title}\")\n",
    "        print(f\"Author: {self.author}\")\n",
    "        print(f\"Watermark: {self.watermark}\")\n",
    "        print(\"Body:\\n\", self.body)\n",
    "        print(\"-\" * 30)\n",
    "    def clone(self):\n",
    "        return copy.deepcopy(self)"
   ]
  },
  {
   "cell_type": "markdown",
   "metadata": {},
   "source": [
    "## Client Code"
   ]
  },
  {
   "cell_type": "code",
   "execution_count": 2,
   "metadata": {},
   "outputs": [
    {
     "name": "stdout",
     "output_type": "stream",
     "text": [
      "Title: Monthly Report\n",
      "Author: Operations Team\n",
      "Watermark: Confidential\n",
      "Body:\n",
      " This is the main content section...\n",
      "------------------------------\n",
      "Title: HR Monthly Report\n",
      "Author: HR Dept\n",
      "Watermark: Confidential\n",
      "Body:\n",
      " This is the main content section...\n",
      "------------------------------\n",
      "Title: Finance Summary\n",
      "Author: Operations Team\n",
      "Watermark: Finance Dept Only\n",
      "Body:\n",
      " This is the main content section...\n",
      "------------------------------\n"
     ]
    }
   ],
   "source": [
    "if __name__ == \"__main__\":\n",
    "    # Create a base template\n",
    "    base_doc = Document(\n",
    "        title=\"Monthly Report\",\n",
    "        body=\"This is the main content section...\",\n",
    "        author=\"Operations Team\",\n",
    "        watermark=\"Confidential\"\n",
    "    )\n",
    "\n",
    "    # Clone and customize\n",
    "    hr_doc = base_doc.clone()\n",
    "    hr_doc.title = \"HR Monthly Report\"\n",
    "    hr_doc.author = \"HR Dept\"\n",
    "    \n",
    "    finance_doc = base_doc.clone()\n",
    "    finance_doc.title = \"Finance Summary\"\n",
    "    finance_doc.watermark = \"Finance Dept Only\"\n",
    "    \n",
    "    # Display results\n",
    "    base_doc.show()\n",
    "    hr_doc.show()\n",
    "    finance_doc.show()"
   ]
  }
 ],
 "metadata": {
  "kernelspec": {
   "display_name": "advertisex_pj",
   "language": "python",
   "name": "python3"
  },
  "language_info": {
   "codemirror_mode": {
    "name": "ipython",
    "version": 3
   },
   "file_extension": ".py",
   "mimetype": "text/x-python",
   "name": "python",
   "nbconvert_exporter": "python",
   "pygments_lexer": "ipython3",
   "version": "3.9.6"
  }
 },
 "nbformat": 4,
 "nbformat_minor": 2
}
