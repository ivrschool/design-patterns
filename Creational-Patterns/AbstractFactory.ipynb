{
 "cells": [
  {
   "cell_type": "code",
   "execution_count": null,
   "metadata": {},
   "outputs": [],
   "source": []
  },
  {
   "cell_type": "markdown",
   "metadata": {},
   "source": [
    "# Step 1: Define Product Interfaces"
   ]
  },
  {
   "cell_type": "code",
   "execution_count": 1,
   "metadata": {},
   "outputs": [],
   "source": [
    "from abc import ABC, abstractmethod\n",
    "\n",
    "# Chair Interface\n",
    "class Chair(ABC):\n",
    "    @abstractmethod\n",
    "    def sit(self):\n",
    "        pass\n",
    "# Sofa Interface\n",
    "class Sofa(ABC):\n",
    "    @abstractmethod\n",
    "    def lie_down(self):\n",
    "        pass"
   ]
  },
  {
   "cell_type": "markdown",
   "metadata": {},
   "source": [
    "# Step 2: Create Concrete Products"
   ]
  },
  {
   "cell_type": "code",
   "execution_count": 2,
   "metadata": {},
   "outputs": [],
   "source": [
    "# Modern Chair and Sofa\n",
    "class ModernChair(Chair):\n",
    "    def sit(self):\n",
    "        return \"Sitting on a modern chair.\"\n",
    "class ModernSofa(Sofa):\n",
    "    def lie_down(self):\n",
    "        return \"Lying on a modern sofa.\"\n",
    "# Victorian Chair and Sofa\n",
    "class VictorianChair(Chair):\n",
    "    def sit(self):\n",
    "        return \"Sitting on a victorian chair.\"\n",
    "class VictorianSofa(Sofa):\n",
    "    def lie_down(self):\n",
    "        return \"Lying on a victorian sofa.\""
   ]
  },
  {
   "cell_type": "markdown",
   "metadata": {},
   "source": [
    "# Step 3: Abstract Factory Interface"
   ]
  },
  {
   "cell_type": "code",
   "execution_count": 3,
   "metadata": {},
   "outputs": [],
   "source": [
    "class FurnitureFactory(ABC):\n",
    "    @abstractmethod\n",
    "    def create_chair(self) -> Chair:\n",
    "        pass\n",
    "    @abstractmethod\n",
    "    def create_sofa(self) -> Sofa:\n",
    "        pass"
   ]
  },
  {
   "cell_type": "markdown",
   "metadata": {},
   "source": [
    "# Step 4: Concrete Factories"
   ]
  },
  {
   "cell_type": "code",
   "execution_count": 4,
   "metadata": {},
   "outputs": [],
   "source": [
    "class ModernFurnitureFactory(FurnitureFactory):\n",
    "    def create_chair(self) -> Chair:\n",
    "        return ModernChair()\n",
    "    def create_sofa(self) -> Sofa:\n",
    "        return ModernSofa()\n",
    "class VictorianFurnitureFactory(FurnitureFactory):\n",
    "    def create_chair(self) -> Chair:\n",
    "        return VictorianChair()\n",
    "    def create_sofa(self) -> Sofa:\n",
    "        return VictorianSofa()"
   ]
  },
  {
   "cell_type": "code",
   "execution_count": 5,
   "metadata": {},
   "outputs": [],
   "source": []
  },
  {
   "cell_type": "markdown",
   "metadata": {},
   "source": [
    "# Step 5: Client Code (Using the Factory)"
   ]
  },
  {
   "cell_type": "code",
   "execution_count": 7,
   "metadata": {},
   "outputs": [
    {
     "name": "stdout",
     "output_type": "stream",
     "text": [
      "Sitting on a victorian chair.\n",
      "Lying on a victorian sofa.\n"
     ]
    }
   ],
   "source": [
    "def create_furniture(factory: FurnitureFactory):\n",
    "    chair = factory.create_chair()\n",
    "    sofa = factory.create_sofa()\n",
    "    print(chair.sit())\n",
    "    print(sofa.lie_down())\n",
    "# Usage\n",
    "factory_style = input(\"Enter furniture style (modern/victorian): \").strip().lower()\n",
    "if factory_style == \"modern\":\n",
    "    factory = ModernFurnitureFactory()\n",
    "elif factory_style == \"victorian\":\n",
    "    factory = VictorianFurnitureFactory()\n",
    "else:\n",
    "    raise ValueError(\"Unknown style.\")\n",
    "\n",
    "create_furniture(factory)"
   ]
  },
  {
   "cell_type": "code",
   "execution_count": null,
   "metadata": {},
   "outputs": [],
   "source": []
  }
 ],
 "metadata": {
  "kernelspec": {
   "display_name": "advertisex_pj",
   "language": "python",
   "name": "python3"
  },
  "language_info": {
   "codemirror_mode": {
    "name": "ipython",
    "version": 3
   },
   "file_extension": ".py",
   "mimetype": "text/x-python",
   "name": "python",
   "nbconvert_exporter": "python",
   "pygments_lexer": "ipython3",
   "version": "3.9.6"
  }
 },
 "nbformat": 4,
 "nbformat_minor": 2
}
