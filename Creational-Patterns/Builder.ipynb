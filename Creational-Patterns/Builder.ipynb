{
 "cells": [
  {
   "cell_type": "markdown",
   "metadata": {},
   "source": [
    "# 1. Product"
   ]
  },
  {
   "cell_type": "code",
   "execution_count": 1,
   "metadata": {},
   "outputs": [],
   "source": [
    "\n",
    "class RiceBowl:\n",
    "    def __init__(self):\n",
    "        self.ingredients = []\n",
    "\n",
    "    def add(self, item):\n",
    "        self.ingredients.append(item)\n",
    "\n",
    "    def show(self):\n",
    "        return f\"Rice Bowl with: {', '.join(self.ingredients)}\""
   ]
  },
  {
   "cell_type": "markdown",
   "metadata": {},
   "source": [
    "# 2. Builder (Abstract Interface)"
   ]
  },
  {
   "cell_type": "code",
   "execution_count": 2,
   "metadata": {},
   "outputs": [],
   "source": [
    "\n",
    "\n",
    "from abc import ABC, abstractmethod\n",
    "\n",
    "class RiceBowlBuilder(ABC):\n",
    "    @abstractmethod\n",
    "    def add_rice(self): pass\n",
    "\n",
    "    @abstractmethod\n",
    "    def add_filling(self, filling): pass\n",
    "\n",
    "    @abstractmethod\n",
    "    def add_sauce(self, sauce): pass\n",
    "\n",
    "    @abstractmethod\n",
    "    def add_topping(self, topping): pass\n",
    "\n",
    "    @abstractmethod\n",
    "    def build(self): pass"
   ]
  },
  {
   "cell_type": "markdown",
   "metadata": {},
   "source": [
    "# 3. ConcreteBuilder (Implementation)"
   ]
  },
  {
   "cell_type": "code",
   "execution_count": 3,
   "metadata": {},
   "outputs": [],
   "source": [
    "\n",
    "\n",
    "class CustomRiceBowlBuilder(RiceBowlBuilder):\n",
    "    def __init__(self):\n",
    "        self.rice_bowl = RiceBowl()\n",
    "\n",
    "    def add_rice(self):\n",
    "        self.rice_bowl.add(\"Sushi Rice\")\n",
    "        return self\n",
    "\n",
    "    def add_filling(self, filling):\n",
    "        self.rice_bowl.add(filling)\n",
    "        return self\n",
    "\n",
    "    def add_sauce(self, sauce):\n",
    "        self.rice_bowl.add(sauce)\n",
    "        return self\n",
    "\n",
    "    def add_topping(self, topping):\n",
    "        self.rice_bowl.add(topping)\n",
    "        return self\n",
    "\n",
    "    def build(self):\n",
    "        return self.rice_bowl"
   ]
  },
  {
   "cell_type": "markdown",
   "metadata": {},
   "source": [
    "# 4. Director (Optional)"
   ]
  },
  {
   "cell_type": "code",
   "execution_count": 4,
   "metadata": {},
   "outputs": [],
   "source": [
    "\n",
    "class RiceBowlDirector:\n",
    "    def __init__(self, builder: RiceBowlBuilder):\n",
    "        self.builder = builder\n",
    "\n",
    "    def build_custom_rice_bowl(self, filling, sauce, topping):\n",
    "        return (self.builder.add_rice()\n",
    "                           .add_filling(filling)\n",
    "                           .add_sauce(sauce)\n",
    "                           .add_topping(topping)\n",
    "                           .build())"
   ]
  },
  {
   "cell_type": "markdown",
   "metadata": {},
   "source": [
    "# Client Code"
   ]
  },
  {
   "cell_type": "code",
   "execution_count": 5,
   "metadata": {},
   "outputs": [
    {
     "name": "stdout",
     "output_type": "stream",
     "text": [
      "Rice Bowl with: Sushi Rice, Tofu, Sriracha, Crushed Peanuts\n",
      "Rice Bowl with: Sushi Rice, Chicken Katsu, Honey Mustard, Fried Onions\n"
     ]
    }
   ],
   "source": [
    "if __name__ == \"__main__\":\n",
    "    # Custom rice bowl 1\n",
    "    builder1 = CustomRiceBowlBuilder()\n",
    "    director1 = RiceBowlDirector(builder1)\n",
    "    bowl1 = director1.build_custom_rice_bowl(\"Tofu\", \"Sriracha\", \"Crushed Peanuts\")\n",
    "    print(bowl1.show())\n",
    "\n",
    "    # Custom rice bowl 2\n",
    "    builder2 = CustomRiceBowlBuilder()\n",
    "    director2 = RiceBowlDirector(builder2)\n",
    "    bowl2 = director2.build_custom_rice_bowl(\"Chicken Katsu\", \"Honey Mustard\", \"Fried Onions\")\n",
    "    print(bowl2.show())"
   ]
  },
  {
   "cell_type": "code",
   "execution_count": null,
   "metadata": {},
   "outputs": [],
   "source": []
  }
 ],
 "metadata": {
  "kernelspec": {
   "display_name": "advertisex_pj",
   "language": "python",
   "name": "python3"
  },
  "language_info": {
   "codemirror_mode": {
    "name": "ipython",
    "version": 3
   },
   "file_extension": ".py",
   "mimetype": "text/x-python",
   "name": "python",
   "nbconvert_exporter": "python",
   "pygments_lexer": "ipython3",
   "version": "3.9.6"
  }
 },
 "nbformat": 4,
 "nbformat_minor": 2
}
