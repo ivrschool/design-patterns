{
 "cells": [
  {
   "cell_type": "markdown",
   "metadata": {},
   "source": [
    "# Prerequisite:\n",
    "\n",
    "https://medium.com/fundamentals-of-artificial-intellegence/understanding-abstractmethod-and-staticmethod-in-python-37fff24bb98e"
   ]
  },
  {
   "cell_type": "markdown",
   "metadata": {},
   "source": [
    "## Example 1: Notification Factory"
   ]
  },
  {
   "cell_type": "code",
   "execution_count": 2,
   "metadata": {},
   "outputs": [],
   "source": [
    "from abc import ABC, abstractmethod\n",
    "\n",
    "class Notification(ABC):\n",
    "    @abstractmethod\n",
    "    def send(self, message: str):\n",
    "        pass"
   ]
  },
  {
   "cell_type": "code",
   "execution_count": 3,
   "metadata": {},
   "outputs": [],
   "source": [
    "class EmailNotification(Notification):\n",
    "    def send(self, message: str):\n",
    "        print(f\"Email: {message}\")\n",
    "\n",
    "class SMSNotification(Notification):\n",
    "    def send(self, message: str):\n",
    "        print(f\"SMS: {message}\")"
   ]
  },
  {
   "cell_type": "code",
   "execution_count": 4,
   "metadata": {},
   "outputs": [],
   "source": [
    "class NotificationFactory:\n",
    "    def get_notification(self, type_: str) -> Notification:\n",
    "        if type_ == \"email\":\n",
    "            return EmailNotification()\n",
    "        elif type_ == \"sms\":\n",
    "            return SMSNotification()\n",
    "        else:\n",
    "            raise ValueError(\"Unknown notification type\")"
   ]
  },
  {
   "cell_type": "code",
   "execution_count": 5,
   "metadata": {},
   "outputs": [
    {
     "name": "stdout",
     "output_type": "stream",
     "text": [
      "Email: Welcome to our service!\n",
      "SMS: Your code is 1234\n"
     ]
    }
   ],
   "source": [
    "factory = NotificationFactory()\n",
    "\n",
    "notif1 = factory.get_notification(\"email\")\n",
    "notif1.send(\"Welcome to our service!\")\n",
    "notif2 = factory.get_notification(\"sms\")\n",
    "notif2.send(\"Your code is 1234\")"
   ]
  },
  {
   "cell_type": "markdown",
   "metadata": {},
   "source": [
    "### Example 2: Transport App (Uber-style)"
   ]
  },
  {
   "cell_type": "code",
   "execution_count": 6,
   "metadata": {},
   "outputs": [],
   "source": [
    "class Ride(ABC):\n",
    "    @abstractmethod\n",
    "    def book(self):\n",
    "        pass"
   ]
  },
  {
   "cell_type": "code",
   "execution_count": 7,
   "metadata": {},
   "outputs": [],
   "source": [
    "class Bike(Ride):\n",
    "    def book(self):\n",
    "        print(\"Bike ride booked!\")\n",
    "class Car(Ride):\n",
    "    def book(self):\n",
    "        print(\"Car ride booked!\")\n",
    "class Auto(Ride):\n",
    "    def book(self):\n",
    "        print(\"Auto ride booked!\")"
   ]
  },
  {
   "cell_type": "code",
   "execution_count": 8,
   "metadata": {},
   "outputs": [],
   "source": [
    "class RideFactory:\n",
    "    def get_ride(self, mode: str) -> Ride:\n",
    "        if mode == \"bike\":\n",
    "            return Bike()\n",
    "        elif mode == \"car\":\n",
    "            return Car()\n",
    "        elif mode == \"auto\":\n",
    "            return Auto()\n",
    "        else:\n",
    "            raise ValueError(\"Unknown ride type\")"
   ]
  },
  {
   "cell_type": "code",
   "execution_count": 9,
   "metadata": {},
   "outputs": [
    {
     "name": "stdout",
     "output_type": "stream",
     "text": [
      "Bike ride booked!\n",
      "Car ride booked!\n"
     ]
    }
   ],
   "source": [
    "factory = RideFactory()\n",
    "\n",
    "ride1 = factory.get_ride(\"bike\")\n",
    "ride1.book()  # Bike ride booked!\n",
    "ride2 = factory.get_ride(\"car\")\n",
    "ride2.book()  # Car ride booked!"
   ]
  }
 ],
 "metadata": {
  "kernelspec": {
   "display_name": "advertisex_pj",
   "language": "python",
   "name": "python3"
  },
  "language_info": {
   "codemirror_mode": {
    "name": "ipython",
    "version": 3
   },
   "file_extension": ".py",
   "mimetype": "text/x-python",
   "name": "python",
   "nbconvert_exporter": "python",
   "pygments_lexer": "ipython3",
   "version": "3.9.6"
  }
 },
 "nbformat": 4,
 "nbformat_minor": 2
}
