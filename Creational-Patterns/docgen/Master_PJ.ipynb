{
 "cells": [
  {
   "cell_type": "markdown",
   "metadata": {},
   "source": [
    "# Project: Dynamic Document Generation Platform\n",
    "### Imagine an application for a SaaS company that provides automated document generation for various industries (HR, Finance, Marketing). Each document has:\n",
    "\n",
    "- Custom templates (using Builder),\n",
    "\n",
    "- Industry-specific document types (via Factory),\n",
    "\n",
    "- UI theme families (via Abstract Factory),\n",
    "\n",
    "- System-wide logging (via Singleton),\n",
    "\n",
    "- Ability to clone and tweak templates (via Prototype)."
   ]
  },
  {
   "cell_type": "markdown",
   "metadata": {},
   "source": [
    "### Step 1: Project Directory Structure\n",
    "```\n",
    "docgen/\n",
    "├── main.py\n",
    "├── config/\n",
    "│   └── logger.py                     # Singleton Logger\n",
    "├── factories/\n",
    "│   ├── document_factory.py           # Simple Factory (Static Method)\n",
    "│   ├── document_factory_method.py    # Factory Method Pattern\n",
    "│   └── theme_factory.py              # Abstract Factory (Themes)\n",
    "├── builder/\n",
    "│   └── builder.py                    # Builder Pattern & Director\n",
    "├── prototype/\n",
    "│   └── cloneable.py                  # Prototype Pattern\n",
    "└── models/\n",
    "    └── document.py                   # Document (Product Class)\n",
    "\n",
    "```"
   ]
  },
  {
   "cell_type": "code",
   "execution_count": 17,
   "metadata": {},
   "outputs": [],
   "source": [
    "# main.py\n",
    "\n",
    "from config.logger import Logger\n",
    "from factories.document_factory import DocumentFactory\n",
    "from factories.document_factory_method import FinanceDocumentCreator\n",
    "from factories.theme_factory import ThemeFactory\n",
    "from builder.builder import DocumentBuilder\n"
   ]
  },
  {
   "cell_type": "code",
   "execution_count": 18,
   "metadata": {},
   "outputs": [
    {
     "name": "stdout",
     "output_type": "stream",
     "text": [
      "[LOG]: === Singleton Pattern ===\n",
      "[LOG]: Logger initialized. This will be shared across the app.\n",
      "\n"
     ]
    }
   ],
   "source": [
    "# 1. Singleton Logger\n",
    "logger = Logger()\n",
    "logger.log(\"=== Singleton Pattern ===\")\n",
    "logger.log(\"Logger initialized. This will be shared across the app.\\n\")"
   ]
  },
  {
   "cell_type": "code",
   "execution_count": 19,
   "metadata": {},
   "outputs": [
    {
     "name": "stdout",
     "output_type": "stream",
     "text": [
      "[LOG]: === Factory Pattern ===\n",
      "[LOG]: Generated HR document using static factory.\n",
      "=== DOCUMENT ===\n",
      "Title: HR Onboarding\n",
      "Body: Welcome!\n",
      "Footer: HR Dept\n",
      "Style: {}\n",
      "================\n",
      "\n"
     ]
    }
   ],
   "source": [
    "# 2. Factory Pattern: Static Factory\n",
    "logger.log(\"=== Factory Pattern ===\")\n",
    "doc = DocumentFactory.create_document(\"HR\")\n",
    "logger.log(\"Generated HR document using static factory.\")\n",
    "doc.show()\n"
   ]
  },
  {
   "cell_type": "code",
   "execution_count": 20,
   "metadata": {},
   "outputs": [
    {
     "name": "stdout",
     "output_type": "stream",
     "text": [
      "[LOG]: === Factory Method Pattern ===\n",
      "[LOG]: Generated Finance document using Factory Method.\n",
      "=== DOCUMENT ===\n",
      "Title: Q1 Finance Report\n",
      "Body: Balance & Revenue\n",
      "Footer: Finance Department\n",
      "Style: {}\n",
      "================\n",
      "\n"
     ]
    }
   ],
   "source": [
    "# 3. Factory Method Pattern\n",
    "logger.log(\"=== Factory Method Pattern ===\")\n",
    "creator = FinanceDocumentCreator()\n",
    "finance_doc = creator.create_document()\n",
    "logger.log(\"Generated Finance document using Factory Method.\")\n",
    "finance_doc.show()"
   ]
  },
  {
   "cell_type": "code",
   "execution_count": 21,
   "metadata": {},
   "outputs": [
    {
     "name": "stdout",
     "output_type": "stream",
     "text": [
      "[LOG]: === Abstract Factory Pattern ===\n",
      "[LOG]: Applying theme - background: black, font: white.\n",
      "\n"
     ]
    }
   ],
   "source": [
    "# 4. Abstract Factory Pattern\n",
    "logger.log(\"=== Abstract Factory Pattern ===\")\n",
    "theme = ThemeFactory.get_theme(\"dark\")\n",
    "logger.log(f\"Applying theme - background: {theme.background()}, font: {theme.font()}.\\n\")\n"
   ]
  },
  {
   "cell_type": "code",
   "execution_count": 22,
   "metadata": {},
   "outputs": [
    {
     "name": "stdout",
     "output_type": "stream",
     "text": [
      "[LOG]: === Builder Pattern ===\n",
      "[LOG]: Built a custom marketing document using Builder.\n",
      "=== DOCUMENT ===\n",
      "Title: Custom Marketing Plan\n",
      "Body: Marketing strategy for Q1\n",
      "Footer: Internal Use Only\n",
      "Style: {'background': 'black', 'font': 'white'}\n",
      "================\n",
      "\n"
     ]
    }
   ],
   "source": [
    "# 5. Builder Pattern\n",
    "logger.log(\"=== Builder Pattern ===\")\n",
    "builder = DocumentBuilder()\n",
    "custom_doc = (builder.set_title(\"Custom Marketing Plan\")\n",
    "                      .set_body(\"Marketing strategy for Q1\")\n",
    "                      .set_footer(\"Internal Use Only\")\n",
    "                      .apply_theme(theme)\n",
    "                      .build())\n",
    "logger.log(\"Built a custom marketing document using Builder.\")\n",
    "custom_doc.show()"
   ]
  },
  {
   "cell_type": "code",
   "execution_count": 23,
   "metadata": {},
   "outputs": [
    {
     "name": "stdout",
     "output_type": "stream",
     "text": [
      "[LOG]: === Prototype Pattern ===\n",
      "[LOG]: Cloned the custom marketing document using Prototype.\n",
      "=== DOCUMENT ===\n",
      "Title: Cloned: Marketing Plan Copy\n",
      "Body: Marketing strategy for Q1\n",
      "Footer: Internal Use Only\n",
      "Style: {'background': 'black', 'font': 'white'}\n",
      "================\n",
      "\n"
     ]
    }
   ],
   "source": [
    "# 6. Prototype Pattern\n",
    "logger.log(\"=== Prototype Pattern ===\")\n",
    "cloned_doc = custom_doc.clone()\n",
    "cloned_doc.title = \"Cloned: Marketing Plan Copy\"\n",
    "logger.log(\"Cloned the custom marketing document using Prototype.\")\n",
    "cloned_doc.show()"
   ]
  },
  {
   "cell_type": "markdown",
   "metadata": {},
   "source": [
    "###"
   ]
  }
 ],
 "metadata": {
  "kernelspec": {
   "display_name": "advertisex_pj",
   "language": "python",
   "name": "python3"
  },
  "language_info": {
   "codemirror_mode": {
    "name": "ipython",
    "version": 3
   },
   "file_extension": ".py",
   "mimetype": "text/x-python",
   "name": "python",
   "nbconvert_exporter": "python",
   "pygments_lexer": "ipython3",
   "version": "3.9.6"
  }
 },
 "nbformat": 4,
 "nbformat_minor": 2
}
