{
 "cells": [
  {
   "cell_type": "markdown",
   "metadata": {},
   "source": [
    "### Step 1: Existing System (Old Payment Gateway):"
   ]
  },
  {
   "cell_type": "code",
   "execution_count": 1,
   "metadata": {},
   "outputs": [],
   "source": [
    "class OldPaymentGateway:\n",
    "    def send_payment(self, amount):\n",
    "        print(f\"[OldPaymentGateway] Payment of ${amount} processed.\")"
   ]
  },
  {
   "cell_type": "code",
   "execution_count": 5,
   "metadata": {},
   "outputs": [],
   "source": [
    "### Step 2: New System with Different Interface:"
   ]
  },
  {
   "cell_type": "code",
   "execution_count": 2,
   "metadata": {},
   "outputs": [],
   "source": [
    "class NewPaymentProvider:\n",
    "    def make_transaction(self, money):\n",
    "        print(f\"[NewPaymentProvider] Transaction of ${money} completed.\")"
   ]
  },
  {
   "cell_type": "markdown",
   "metadata": {},
   "source": [
    "### Step 3: Create an Adapter:"
   ]
  },
  {
   "cell_type": "code",
   "execution_count": 3,
   "metadata": {},
   "outputs": [],
   "source": [
    "class PaymentAdapter:\n",
    "    def __init__(self, new_provider: NewPaymentProvider):\n",
    "        self.new_provider = new_provider\n",
    "    def send_payment(self, amount):\n",
    "        # Adapting the method\n",
    "        print(\"[Adapter] Translating request...\")\n",
    "        self.new_provider.make_transaction(amount)"
   ]
  },
  {
   "cell_type": "markdown",
   "metadata": {},
   "source": [
    "### Step 4: Use the Adapter:"
   ]
  },
  {
   "cell_type": "code",
   "execution_count": 4,
   "metadata": {},
   "outputs": [
    {
     "name": "stdout",
     "output_type": "stream",
     "text": [
      "[OldPaymentGateway] Payment of $100 processed.\n",
      "[Adapter] Translating request...\n",
      "[NewPaymentProvider] Transaction of $250 completed.\n"
     ]
    }
   ],
   "source": [
    "# Our checkout code remains unchanged\n",
    "def checkout(payment_gateway, amount):\n",
    "    payment_gateway.send_payment(amount)\n",
    "\n",
    "# Old system usage\n",
    "old_gateway = OldPaymentGateway()\n",
    "checkout(old_gateway, 100)\n",
    "\n",
    "# New system usage through Adapter\n",
    "new_provider = NewPaymentProvider()\n",
    "adapter = PaymentAdapter(new_provider)\n",
    "checkout(adapter, 250)"
   ]
  },
  {
   "cell_type": "code",
   "execution_count": null,
   "metadata": {},
   "outputs": [],
   "source": []
  }
 ],
 "metadata": {
  "kernelspec": {
   "display_name": "advertisex_pj",
   "language": "python",
   "name": "python3"
  },
  "language_info": {
   "codemirror_mode": {
    "name": "ipython",
    "version": 3
   },
   "file_extension": ".py",
   "mimetype": "text/x-python",
   "name": "python",
   "nbconvert_exporter": "python",
   "pygments_lexer": "ipython3",
   "version": "3.9.6"
  }
 },
 "nbformat": 4,
 "nbformat_minor": 2
}
