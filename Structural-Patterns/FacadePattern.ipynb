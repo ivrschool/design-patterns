{
 "cells": [
  {
   "cell_type": "markdown",
   "metadata": {},
   "source": [
    "# Subsystems"
   ]
  },
  {
   "cell_type": "code",
   "execution_count": 2,
   "metadata": {},
   "outputs": [],
   "source": [
    "\n",
    "class Projector:\n",
    "    def turn_on(self):\n",
    "        print(\"Projector: Turning on.\")\n",
    "    def set_input(self, source):\n",
    "        print(f\"Projector: Setting input source to {source}.\")\n",
    "class SoundSystem:\n",
    "    def turn_on(self):\n",
    "        print(\"Sound System: Powering up.\")\n",
    "    def set_mode(self, mode):\n",
    "        print(f\"Sound System: Switching to {mode} mode.\")\n",
    "class Lights:\n",
    "    def dim(self):\n",
    "        print(\"Lights: Dimming the lights.\")\n",
    "    def set_color(self, color):\n",
    "        print(f\"Lights: Setting color to {color}.\")\n",
    "class SnackMaker:\n",
    "    def turn_on(self):\n",
    "        print(\"Snack Maker: Heating up.\")\n",
    "    def make_popcorn(self):\n",
    "        print(\"Snack Maker: Making popcorn.\")\n",
    "class StreamingApp:\n",
    "    def launch(self):\n",
    "        print(\"Streaming App: Launching app.\")\n",
    "    def play(self, movie):\n",
    "        print(f\"Streaming App: Playing '{movie}'.\")"
   ]
  },
  {
   "cell_type": "markdown",
   "metadata": {},
   "source": [
    "# Without Facade"
   ]
  },
  {
   "cell_type": "code",
   "execution_count": 6,
   "metadata": {},
   "outputs": [
    {
     "name": "stdout",
     "output_type": "stream",
     "text": [
      "Projector: Turning on.\n",
      "Projector: Setting input source to HDMI1.\n",
      "Sound System: Powering up.\n",
      "Sound System: Switching to cinema mode.\n",
      "Lights: Dimming the lights.\n",
      "Lights: Setting color to warm.\n",
      "Snack Maker: Heating up.\n",
      "Snack Maker: Making popcorn.\n",
      "Streaming App: Launching app.\n",
      "Streaming App: Playing 'Inception'.\n"
     ]
    }
   ],
   "source": [
    "projector = Projector()\n",
    "projector.turn_on()\n",
    "projector.set_input(\"HDMI1\")\n",
    "\n",
    "sound_system = SoundSystem()\n",
    "sound_system.turn_on()\n",
    "sound_system.set_mode(\"cinema\")\n",
    "\n",
    "lights = Lights()\n",
    "lights.dim()\n",
    "lights.set_color(\"warm\")\n",
    "\n",
    "snack_maker = SnackMaker()\n",
    "snack_maker.turn_on()\n",
    "snack_maker.make_popcorn()\n",
    "\n",
    "streaming_app = StreamingApp()\n",
    "streaming_app.launch()\n",
    "streaming_app.play(\"Inception\")"
   ]
  },
  {
   "cell_type": "markdown",
   "metadata": {},
   "source": [
    "# With Facade Pattern"
   ]
  },
  {
   "cell_type": "code",
   "execution_count": 3,
   "metadata": {},
   "outputs": [],
   "source": [
    "# Facade Class\n",
    "class MovieNightFacade:\n",
    "    def __init__(self):\n",
    "        self.projector = Projector()\n",
    "        self.sound = SoundSystem()\n",
    "        self.lights = Lights()\n",
    "        self.snacks = SnackMaker()\n",
    "        self.app = StreamingApp()\n",
    "    def start_movie(self, movie_name):\n",
    "        print(\"\\nSetting up your movie night...\\n\")\n",
    "        self.projector.turn_on()\n",
    "        self.projector.set_input(\"HDMI1\")\n",
    "        self.sound.turn_on()\n",
    "        self.sound.set_mode(\"cinema\")\n",
    "        self.lights.dim()\n",
    "        self.lights.set_color(\"warm\")\n",
    "        self.snacks.turn_on()\n",
    "        self.snacks.make_popcorn()\n",
    "        self.app.launch()\n",
    "        self.app.play(movie_name)\n",
    "        print(\"\\nEnjoy your movie!\\n\")"
   ]
  },
  {
   "cell_type": "code",
   "execution_count": 4,
   "metadata": {},
   "outputs": [
    {
     "name": "stdout",
     "output_type": "stream",
     "text": [
      "\n",
      "Setting up your movie night...\n",
      "\n",
      "Projector: Turning on.\n",
      "Projector: Setting input source to HDMI1.\n",
      "Sound System: Powering up.\n",
      "Sound System: Switching to cinema mode.\n",
      "Lights: Dimming the lights.\n",
      "Lights: Setting color to warm.\n",
      "Snack Maker: Heating up.\n",
      "Snack Maker: Making popcorn.\n",
      "Streaming App: Launching app.\n",
      "Streaming App: Playing 'Inception'.\n",
      "\n",
      "Enjoy your movie!\n",
      "\n"
     ]
    }
   ],
   "source": [
    "#Client Code\n",
    "if __name__ == \"__main__\":\n",
    "    movie_night = MovieNightFacade()\n",
    "    movie_night.start_movie(\"Inception\")"
   ]
  },
  {
   "cell_type": "code",
   "execution_count": null,
   "metadata": {},
   "outputs": [],
   "source": []
  }
 ],
 "metadata": {
  "kernelspec": {
   "display_name": "advertisex_pj",
   "language": "python",
   "name": "python3"
  },
  "language_info": {
   "codemirror_mode": {
    "name": "ipython",
    "version": 3
   },
   "file_extension": ".py",
   "mimetype": "text/x-python",
   "name": "python",
   "nbconvert_exporter": "python",
   "pygments_lexer": "ipython3",
   "version": "3.9.6"
  }
 },
 "nbformat": 4,
 "nbformat_minor": 2
}
