{
 "cells": [
  {
   "cell_type": "markdown",
   "metadata": {},
   "source": [
    "# Base Component"
   ]
  },
  {
   "cell_type": "code",
   "execution_count": 7,
   "metadata": {},
   "outputs": [],
   "source": [
    "class Coffee:\n",
    "    def cost(self):\n",
    "        return 5\n",
    "    def description(self):\n",
    "        return \"Plain Coffee\""
   ]
  },
  {
   "cell_type": "markdown",
   "metadata": {},
   "source": [
    "# Class Decorator"
   ]
  },
  {
   "cell_type": "markdown",
   "metadata": {},
   "source": [
    "### Step 1: Decorator Base Class:"
   ]
  },
  {
   "cell_type": "code",
   "execution_count": 8,
   "metadata": {},
   "outputs": [],
   "source": [
    "class CoffeeDecorator:\n",
    "    def __init__(self, coffee):\n",
    "        self._coffee = coffee\n",
    "    def cost(self):\n",
    "        return self._coffee.cost()\n",
    "    def description(self):\n",
    "        return self._coffee.description()"
   ]
  },
  {
   "cell_type": "markdown",
   "metadata": {},
   "source": [
    "### Step 2: Add-ons as Decorators:"
   ]
  },
  {
   "cell_type": "code",
   "execution_count": 9,
   "metadata": {},
   "outputs": [],
   "source": [
    "class MilkDecorator(CoffeeDecorator):\n",
    "    def cost(self):\n",
    "        return self._coffee.cost() + 1\n",
    "    def description(self):\n",
    "        return self._coffee.description() + \", Milk\"\n",
    "class SugarDecorator(CoffeeDecorator):\n",
    "    def cost(self):\n",
    "        return self._coffee.cost() + 0.5\n",
    "    def description(self):\n",
    "        return self._coffee.description() + \", Sugar\"\n",
    "class CreamDecorator(CoffeeDecorator):\n",
    "    def cost(self):\n",
    "        return self._coffee.cost() + 1.5\n",
    "    def description(self):\n",
    "        return self._coffee.description() + \", Whipped Cream\""
   ]
  },
  {
   "cell_type": "markdown",
   "metadata": {},
   "source": [
    "### Step 3: Compose Your Drink:"
   ]
  },
  {
   "cell_type": "code",
   "execution_count": 10,
   "metadata": {},
   "outputs": [
    {
     "name": "stdout",
     "output_type": "stream",
     "text": [
      "Order: Plain Coffee, Milk, Sugar, Whipped Cream\n",
      "Total Cost: $8.0\n"
     ]
    }
   ],
   "source": [
    "# Start with base coffee\n",
    "order = Coffee()\n",
    "\n",
    "# Add milk\n",
    "order = MilkDecorator(order)\n",
    "# Add sugar\n",
    "order = SugarDecorator(order)\n",
    "# Add whipped cream\n",
    "order = CreamDecorator(order)\n",
    "# Final cost and description\n",
    "print(f\"Order: {order.description()}\")\n",
    "print(f\"Total Cost: ${order.cost()}\")"
   ]
  },
  {
   "cell_type": "markdown",
   "metadata": {},
   "source": [
    "# @ClassDecorator\n"
   ]
  },
  {
   "cell_type": "markdown",
   "metadata": {},
   "source": [
    "\n",
    "### Step 1: Generic Wrapper Class:"
   ]
  },
  {
   "cell_type": "code",
   "execution_count": 11,
   "metadata": {},
   "outputs": [],
   "source": [
    "class CoffeeWrapper:\n",
    "    def __init__(self, base, extra_cost, extra_desc):\n",
    "        self.base = base\n",
    "        self.extra_cost = extra_cost\n",
    "        self.extra_desc = extra_desc\n",
    "\n",
    "    def cost(self):\n",
    "        return self.base.cost() + self.extra_cost\n",
    "\n",
    "    def description(self):\n",
    "        return self.base.description() + self.extra_desc\n"
   ]
  },
  {
   "cell_type": "markdown",
   "metadata": {},
   "source": [
    "### Step 2: Class decorators that work with @"
   ]
  },
  {
   "cell_type": "code",
   "execution_count": 12,
   "metadata": {},
   "outputs": [],
   "source": [
    "class MilkDecorator:\n",
    "    def __call__(self, func):\n",
    "        def wrapper():\n",
    "            return CoffeeWrapper(func(), 1, \", Milk\")\n",
    "        return wrapper\n",
    "\n",
    "class SugarDecorator:\n",
    "    def __call__(self, func):\n",
    "        def wrapper():\n",
    "            return CoffeeWrapper(func(), 0.5, \", Sugar\")\n",
    "        return wrapper\n",
    "\n",
    "class CreamDecorator:\n",
    "    def __call__(self, func):\n",
    "        def wrapper():\n",
    "            return CoffeeWrapper(func(), 1.5, \", Whipped Cream\")\n",
    "        return wrapper\n"
   ]
  },
  {
   "cell_type": "markdown",
   "metadata": {},
   "source": [
    "### Step 3: Apply with @ Syntax"
   ]
  },
  {
   "cell_type": "code",
   "execution_count": 13,
   "metadata": {},
   "outputs": [
    {
     "name": "stdout",
     "output_type": "stream",
     "text": [
      "Order: Plain Coffee, Milk, Sugar, Whipped Cream\n",
      "Total Cost: $8.0\n"
     ]
    }
   ],
   "source": [
    "@CreamDecorator()\n",
    "@SugarDecorator()\n",
    "@MilkDecorator()\n",
    "def order_coffee():\n",
    "    return Coffee()\n",
    "\n",
    "coffee = order_coffee()\n",
    "print(f\"Order: {coffee.description()}\")\n",
    "print(f\"Total Cost: ${coffee.cost()}\")\n"
   ]
  },
  {
   "cell_type": "code",
   "execution_count": null,
   "metadata": {},
   "outputs": [],
   "source": []
  }
 ],
 "metadata": {
  "kernelspec": {
   "display_name": "advertisex_pj",
   "language": "python",
   "name": "python3"
  },
  "language_info": {
   "codemirror_mode": {
    "name": "ipython",
    "version": 3
   },
   "file_extension": ".py",
   "mimetype": "text/x-python",
   "name": "python",
   "nbconvert_exporter": "python",
   "pygments_lexer": "ipython3",
   "version": "3.9.6"
  }
 },
 "nbformat": 4,
 "nbformat_minor": 2
}
