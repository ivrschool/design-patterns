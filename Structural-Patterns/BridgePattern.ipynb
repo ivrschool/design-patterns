{
 "cells": [
  {
   "cell_type": "markdown",
   "metadata": {},
   "source": [
    "# Naive Approach"
   ]
  },
  {
   "cell_type": "code",
   "execution_count": 3,
   "metadata": {},
   "outputs": [
    {
     "name": "stdout",
     "output_type": "stream",
     "text": [
      "[Mobile App] Exporting 'Sunset Sketch' as a PNG file.\n",
      "[Web Portal] Exporting 'Ocean Doodle' as a JPEG file.\n"
     ]
    }
   ],
   "source": [
    "# Step 1: Create a Class for Every Combination\n",
    "class MobilePNGExporter:\n",
    "    def export_art(self, content: str):\n",
    "        print(\"[Mobile App] Exporting '{}' as a PNG file.\".format(content))\n",
    "\n",
    "class MobileJPEGExporter:\n",
    "    def export_art(self, content: str):\n",
    "        print(\"[Mobile App] Exporting '{}' as a JPEG file.\".format(content))\n",
    "\n",
    "class DesktopPNGExporter:\n",
    "    def export_art(self, content: str):\n",
    "        print(\"[Desktop Software] Exporting '{}' as a PNG file.\".format(content))\n",
    "\n",
    "class DesktopPDFExporter:\n",
    "    def export_art(self, content: str):\n",
    "        print(\"[Desktop Software] Exporting '{}' as a PDF document.\".format(content))\n",
    "\n",
    "class WebJPEGExporter:\n",
    "    def export_art(self, content: str):\n",
    "        print(\"[Web Portal] Exporting '{}' as a JPEG file.\".format(content))\n",
    "\n",
    "# ... And more for each new combination!\n",
    "\n",
    "# Step 2: Usage\n",
    "exporter1 = MobilePNGExporter()\n",
    "exporter1.export_art(\"Sunset Sketch\")\n",
    "\n",
    "exporter2 = WebJPEGExporter()\n",
    "exporter2.export_art(\"Ocean Doodle\")"
   ]
  },
  {
   "cell_type": "markdown",
   "metadata": {},
   "source": [
    "# Using Bridge Pattern"
   ]
  },
  {
   "cell_type": "code",
   "execution_count": 5,
   "metadata": {},
   "outputs": [],
   "source": [
    "# Step 1: Define the Implementor - Export Format\n",
    "from abc import ABC, abstractmethod\n",
    "\n",
    "class ExportFormat(ABC):\n",
    "    @abstractmethod\n",
    "    def export(self, content: str):\n",
    "        pass"
   ]
  },
  {
   "cell_type": "code",
   "execution_count": 10,
   "metadata": {},
   "outputs": [],
   "source": [
    "#Step 2: Concrete Implementations - PNG, JPEG, PDF\n",
    "class PNGExport(ExportFormat):    \n",
    "    def export(self, content: str):\n",
    "        print(f\"Exporting '{content}' as a PNG file.\")\n",
    "class JPEGExport(ExportFormat):\n",
    "    def export(self, content: str):\n",
    "        print(f\"Exporting '{content}' as a JPEG file.\")\n",
    "class PDFExport(ExportFormat):\n",
    "    def export(self, content: str):\n",
    "        print(f\"Exporting '{content}' as a PDF document.\")"
   ]
  },
  {
   "cell_type": "code",
   "execution_count": 11,
   "metadata": {},
   "outputs": [],
   "source": [
    "# Step 3: Define the Abstraction - Platform Exporter\n",
    "class Exporter:\n",
    "    def __init__(self, export_format: ExportFormat):\n",
    "        self.export_format = export_format\n",
    "    def export_art(self, content: str):\n",
    "        self.export_format.export(content)"
   ]
  },
  {
   "cell_type": "code",
   "execution_count": 12,
   "metadata": {},
   "outputs": [],
   "source": [
    "# Step 4: Refine the Abstraction - Mobile, Desktop, Web\n",
    "class MobileExporter(Exporter):\n",
    "    def export_art(self, content: str):\n",
    "        print(\"[Mobile App]\")\n",
    "        super().export_art(content)\n",
    "class DesktopExporter(Exporter):\n",
    "    def export_art(self, content: str):\n",
    "        print(\"[Desktop Software]\")\n",
    "        super().export_art(content)\n",
    "class WebExporter(Exporter):\n",
    "    def export_art(self, content: str):\n",
    "        print(\"[Web Portal]\")\n",
    "        super().export_art(content)"
   ]
  },
  {
   "cell_type": "code",
   "execution_count": 13,
   "metadata": {},
   "outputs": [
    {
     "name": "stdout",
     "output_type": "stream",
     "text": [
      "[Mobile App]\n",
      "Exporting 'Sunset by the Lake' as a PDF document.\n",
      "[Desktop Software]\n",
      "Exporting 'Sunset by the Lake' as a PNG file.\n",
      "[Web Portal]\n",
      "Exporting 'Sunset by the Lake' as a JPEG file.\n"
     ]
    }
   ],
   "source": [
    "# Client Code\n",
    "\n",
    "if __name__ == \"__main__\":\n",
    "    content = \"Sunset by the Lake\"\n",
    "\n",
    "    mobile_pdf = MobileExporter(PDFExport())\n",
    "    mobile_pdf.export_art(content)\n",
    "\n",
    "    desktop_png = DesktopExporter(PNGExport())\n",
    "    desktop_png.export_art(content)\n",
    "\n",
    "    web_jpeg = WebExporter(JPEGExport())\n",
    "    web_jpeg.export_art(content)"
   ]
  },
  {
   "cell_type": "code",
   "execution_count": null,
   "metadata": {},
   "outputs": [],
   "source": []
  }
 ],
 "metadata": {
  "kernelspec": {
   "display_name": "advertisex_pj",
   "language": "python",
   "name": "python3"
  },
  "language_info": {
   "codemirror_mode": {
    "name": "ipython",
    "version": 3
   },
   "file_extension": ".py",
   "mimetype": "text/x-python",
   "name": "python",
   "nbconvert_exporter": "python",
   "pygments_lexer": "ipython3",
   "version": "3.9.6"
  }
 },
 "nbformat": 4,
 "nbformat_minor": 2
}
