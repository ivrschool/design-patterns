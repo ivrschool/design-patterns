{
 "cells": [
  {
   "cell_type": "markdown",
   "metadata": {},
   "source": [
    "# Composite Design Pattern"
   ]
  },
  {
   "cell_type": "markdown",
   "metadata": {},
   "source": [
    "### Step 1: Define a Common Interface"
   ]
  },
  {
   "cell_type": "code",
   "execution_count": 2,
   "metadata": {},
   "outputs": [],
   "source": [
    "from abc import ABC, abstractmethod\n",
    "\n",
    "class PicnicItem(ABC):\n",
    "    @abstractmethod\n",
    "    def show_items(self, indent=0):\n",
    "        pass"
   ]
  },
  {
   "cell_type": "markdown",
   "metadata": {},
   "source": [
    "### Step 2: Leaf Class - Single Items"
   ]
  },
  {
   "cell_type": "code",
   "execution_count": 3,
   "metadata": {},
   "outputs": [],
   "source": [
    "class FoodItem(PicnicItem):\n",
    "    def __init__(self, name):\n",
    "        self.name = name\n",
    "    def show_items(self, indent=0):\n",
    "        print(\"  \" * indent + f\"- {self.name}\")"
   ]
  },
  {
   "cell_type": "markdown",
   "metadata": {},
   "source": [
    "### Step 3: Composite Class - Boxes That Can Contain Items"
   ]
  },
  {
   "cell_type": "code",
   "execution_count": 4,
   "metadata": {},
   "outputs": [],
   "source": [
    "class PicnicBox(PicnicItem):\n",
    "    def __init__(self, name):\n",
    "        self.name = name\n",
    "        self.items = []\n",
    "    def add_item(self, item: PicnicItem):\n",
    "        self.items.append(item)\n",
    "    def remove_item(self, item: PicnicItem):\n",
    "        self.items.remove(item)\n",
    "    def show_items(self, indent=0):\n",
    "        print(\"  \" * indent + f\"[Box: {self.name}]\")\n",
    "        for item in self.items:\n",
    "            item.show_items(indent + 1)"
   ]
  },
  {
   "cell_type": "markdown",
   "metadata": {},
   "source": [
    "### Step 4: Build the Tree (Picnic Structure)"
   ]
  },
  {
   "cell_type": "code",
   "execution_count": 5,
   "metadata": {},
   "outputs": [
    {
     "name": "stdout",
     "output_type": "stream",
     "text": [
      "Picnic Contents:\n",
      "[Box: Main Picnic Box]\n",
      "  [Box: Snack Box]\n",
      "    - Chips\n",
      "    - Biscuits\n",
      "  [Box: Fruit Box]\n",
      "    - Apple\n",
      "    - Banana\n",
      "  - Juice Bottle\n"
     ]
    }
   ],
   "source": [
    "# Individual items\n",
    "chips = FoodItem(\"Chips\")\n",
    "biscuits = FoodItem(\"Biscuits\")\n",
    "apple = FoodItem(\"Apple\")\n",
    "banana = FoodItem(\"Banana\")\n",
    "juice = FoodItem(\"Juice Bottle\")\n",
    "\n",
    "# Create sub-boxes\n",
    "snack_box = PicnicBox(\"Snack Box\")\n",
    "snack_box.add_item(chips)\n",
    "snack_box.add_item(biscuits)\n",
    "fruit_box = PicnicBox(\"Fruit Box\")\n",
    "fruit_box.add_item(apple)\n",
    "fruit_box.add_item(banana)\n",
    "\n",
    "# Main picnic box\n",
    "main_box = PicnicBox(\"Main Picnic Box\")\n",
    "main_box.add_item(snack_box)\n",
    "main_box.add_item(fruit_box)\n",
    "main_box.add_item(juice)\n",
    "\n",
    "# Display everything\n",
    "print(\"Picnic Contents:\")\n",
    "main_box.show_items()"
   ]
  }
 ],
 "metadata": {
  "kernelspec": {
   "display_name": "advertisex_pj",
   "language": "python",
   "name": "python3"
  },
  "language_info": {
   "codemirror_mode": {
    "name": "ipython",
    "version": 3
   },
   "file_extension": ".py",
   "mimetype": "text/x-python",
   "name": "python",
   "nbconvert_exporter": "python",
   "pygments_lexer": "ipython3",
   "version": "3.9.6"
  }
 },
 "nbformat": 4,
 "nbformat_minor": 2
}
