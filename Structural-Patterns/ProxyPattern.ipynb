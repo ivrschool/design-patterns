{
 "cells": [
  {
   "cell_type": "code",
   "execution_count": null,
   "metadata": {},
   "outputs": [],
   "source": []
  },
  {
   "cell_type": "markdown",
   "metadata": {},
   "source": [
    "# 1. Virtual Proxy"
   ]
  },
  {
   "cell_type": "markdown",
   "metadata": {},
   "source": []
  },
  {
   "cell_type": "code",
   "execution_count": 1,
   "metadata": {},
   "outputs": [],
   "source": [
    "import time\n",
    "\n",
    "class RealImage:\n",
    "    def __init__(self, filename):\n",
    "        self.filename = filename\n",
    "        self.load_image()\n",
    "    def load_image(self):\n",
    "        print(f\"Loading high-res image from {self.filename}...\")\n",
    "        time.sleep(2)  # Simulate delay\n",
    "        print(\"Image loaded!\")\n",
    "    def display(self):\n",
    "        print(f\"Displaying {self.filename}\")"
   ]
  },
  {
   "cell_type": "code",
   "execution_count": 2,
   "metadata": {},
   "outputs": [],
   "source": [
    "class ImageProxy:\n",
    "    def __init__(self, filename):\n",
    "        self.filename = filename\n",
    "        self._real_image = None\n",
    "    def display(self):\n",
    "        if self._real_image is None:\n",
    "            print(\"Creating RealImage now...\")\n",
    "            self._real_image = RealImage(self.filename)\n",
    "        else:\n",
    "            print(\"Using cached RealImage.\")\n",
    "        self._real_image.display()"
   ]
  },
  {
   "cell_type": "code",
   "execution_count": 3,
   "metadata": {},
   "outputs": [
    {
     "name": "stdout",
     "output_type": "stream",
     "text": [
      "Instantiating proxy...\n",
      "Proxy created.\n",
      "\n",
      "First time display:\n",
      "Creating RealImage now...\n",
      "Loading high-res image from my_vacation_photo.png...\n",
      "Image loaded!\n",
      "Displaying my_vacation_photo.png\n",
      "\n",
      "Second time display (no loading delay):\n",
      "Using cached RealImage.\n",
      "Displaying my_vacation_photo.png\n"
     ]
    }
   ],
   "source": [
    "if __name__ == \"__main__\":\n",
    "    print(\"Instantiating proxy...\")\n",
    "    image = ImageProxy(\"my_vacation_photo.png\")\n",
    "    print(\"Proxy created.\\n\")\n",
    "    print(\"First time display:\")\n",
    "    image.display()\n",
    "    print(\"\\nSecond time display (no loading delay):\")\n",
    "    image.display()"
   ]
  },
  {
   "cell_type": "markdown",
   "metadata": {},
   "source": [
    "# 2. Protection Proxy"
   ]
  },
  {
   "cell_type": "code",
   "execution_count": null,
   "metadata": {},
   "outputs": [],
   "source": []
  },
  {
   "cell_type": "code",
   "execution_count": 4,
   "metadata": {},
   "outputs": [],
   "source": [
    "class DownloadService:\n",
    "    def download(self, filename):\n",
    "        print(f\"Downloading {filename}...\")"
   ]
  },
  {
   "cell_type": "code",
   "execution_count": 5,
   "metadata": {},
   "outputs": [],
   "source": [
    "class DownloadProxy:\n",
    "    def __init__(self, user_role):\n",
    "        self.user_role = user_role\n",
    "        self.service = DownloadService()\n",
    "    def download(self, filename):\n",
    "        if self.user_role == \"premium\":\n",
    "            self.service.download(filename)\n",
    "        else:\n",
    "            print(\"Access Denied. Upgrade to premium!\")"
   ]
  },
  {
   "cell_type": "code",
   "execution_count": 6,
   "metadata": {},
   "outputs": [
    {
     "name": "stdout",
     "output_type": "stream",
     "text": [
      "Access Denied. Upgrade to premium!\n",
      "\n",
      "Downloading movie.mp4...\n"
     ]
    }
   ],
   "source": [
    "# Usage\n",
    "free_user = DownloadProxy(\"free\")\n",
    "free_user.download(\"movie.mp4\")\n",
    "print()\n",
    "premium_user = DownloadProxy(\"premium\")\n",
    "premium_user.download(\"movie.mp4\")"
   ]
  },
  {
   "cell_type": "code",
   "execution_count": 7,
   "metadata": {},
   "outputs": [],
   "source": [
    "# 3. Remote Proxy"
   ]
  },
  {
   "cell_type": "code",
   "execution_count": 8,
   "metadata": {},
   "outputs": [],
   "source": [
    "class RemotePrinter:\n",
    "    def print_file(self, filename):\n",
    "        print(f\"Sending {filename} to remote printer...\")"
   ]
  },
  {
   "cell_type": "code",
   "execution_count": 9,
   "metadata": {},
   "outputs": [],
   "source": [
    "class PrinterProxy:\n",
    "    def __init__(self):\n",
    "        self.remote_printer = RemotePrinter()\n",
    "    def print_file(self, filename):\n",
    "        print(\"Connecting to remote printer...\")\n",
    "        self.remote_printer.print_file(filename)"
   ]
  },
  {
   "cell_type": "code",
   "execution_count": 10,
   "metadata": {},
   "outputs": [
    {
     "name": "stdout",
     "output_type": "stream",
     "text": [
      "Connecting to remote printer...\n",
      "Sending report.pdf to remote printer...\n"
     ]
    }
   ],
   "source": [
    "# Usage\n",
    "printer = PrinterProxy()\n",
    "printer.print_file(\"report.pdf\")"
   ]
  },
  {
   "cell_type": "code",
   "execution_count": null,
   "metadata": {},
   "outputs": [],
   "source": []
  },
  {
   "cell_type": "markdown",
   "metadata": {},
   "source": [
    "# 4. Smart proxy"
   ]
  },
  {
   "cell_type": "code",
   "execution_count": 11,
   "metadata": {},
   "outputs": [],
   "source": [
    "class Document:\n",
    "    def __init__(self, title):\n",
    "        self.title = title\n",
    "    def read(self):\n",
    "        print(f\"Reading document: {self.title}\")"
   ]
  },
  {
   "cell_type": "code",
   "execution_count": 13,
   "metadata": {},
   "outputs": [],
   "source": [
    "class LoggingProxy:\n",
    "    def __init__(self, document):\n",
    "        self._document = document\n",
    "    def read(self):\n",
    "        print(f\"[LOG] Document '{self._document.title}' was accessed.\")\n",
    "        self._document.read()"
   ]
  },
  {
   "cell_type": "code",
   "execution_count": 15,
   "metadata": {},
   "outputs": [
    {
     "name": "stdout",
     "output_type": "stream",
     "text": [
      "[LOG] Document 'Terms_and_Conditions.pdf' was accessed.\n",
      "Reading document: Terms_and_Conditions.pdf\n"
     ]
    }
   ],
   "source": [
    "# Usage\n",
    "doc = Document(\"Terms_and_Conditions.pdf\")\n",
    "smart_doc = LoggingProxy(doc)\n",
    "smart_doc.read()"
   ]
  },
  {
   "cell_type": "code",
   "execution_count": null,
   "metadata": {},
   "outputs": [],
   "source": []
  }
 ],
 "metadata": {
  "kernelspec": {
   "display_name": "advertisex_pj",
   "language": "python",
   "name": "python3"
  },
  "language_info": {
   "codemirror_mode": {
    "name": "ipython",
    "version": 3
   },
   "file_extension": ".py",
   "mimetype": "text/x-python",
   "name": "python",
   "nbconvert_exporter": "python",
   "pygments_lexer": "ipython3",
   "version": "3.9.6"
  }
 },
 "nbformat": 4,
 "nbformat_minor": 2
}
